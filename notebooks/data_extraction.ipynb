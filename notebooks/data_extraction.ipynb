{
 "cells": [
  {
   "cell_type": "markdown",
   "metadata": {
    "vscode": {
     "languageId": "markdown"
    }
   },
   "source": [
    "# Análisis del Producto Interno Bruto (PIB) por Industria\n",
    "Este Jupyter Notebook tiene como objetivo obtener y analizar datos del Producto Interno Bruto (PIB) por industria proporcionados por la API de la Oficina de Análisis Económico (BEA) de los Estados Unidos. A continuación se describen los pasos realizados en este notebook:\n",
    "\n",
    "1. **Importación de las bibliotecas necesarias**: Se importan las bibliotecas `requests`, `pandas`, `matplotlib.pyplot`, `os` y `dotenv` para manejar las solicitudes HTTP, manipular datos, crear gráficos, manejar variables de entorno y cargar variables de entorno desde un archivo `.env`, respectivamente.\n",
    "\n",
    "2. **Carga de variables de entorno**: Se cargan las variables de entorno desde un archivo `.env` para obtener la clave de la API de BEA.\n",
    "\n",
    "3. **Configuración de la solicitud a la API**: Se define la URL de la API y los parámetros necesarios para realizar la solicitud GET a la API de BEA para obtener datos del PIB por industria de los últimos 5 años.\n",
    "\n",
    "4. **Realización de la solicitud a la API**: Se realiza la solicitud GET a la API de BEA y se verifica si la solicitud fue exitosa. Si la solicitud es exitosa, se parsea la respuesta JSON y se extraen los datos.\n",
    "\n",
    "5. **Almacenamiento de los datos**: Los datos obtenidos se convierten en un DataFrame de pandas y se guardan en un archivo CSV en la ruta especificada.\n",
    "\n",
    "6. **Análisis y visualización de los datos**: Se realizan análisis y visualizaciones de los datos obtenidos para comprender mejor las tendencias del PIB por industria.\n",
    "\n",
    "## Variables presentes en este notebook:\n",
    "- `api_key`: Clave de la API de BEA.\n",
    "- `data`: Diccionario que contiene la respuesta JSON de la API de BEA.\n",
    "- `df`: DataFrame de pandas que contiene los datos del PIB por industria.\n",
    "- `output_path`: Ruta donde se almacena el archivo CSV con los datos del PIB por industria.\n",
    "- `params`: Diccionario con los parámetros de la solicitud a la API de BEA.\n",
    "- `response`: Objeto de respuesta de la solicitud GET a la API de BEA.\n",
    "- `results`: Lista que contiene los datos extraídos de la respuesta JSON de la API de BEA.\n",
    "- `url`: URL de la API de BEA.\n"
   ]
  },
  {
   "cell_type": "code",
   "execution_count": 23,
   "metadata": {},
   "outputs": [
    {
     "name": "stdout",
     "output_type": "stream",
     "text": [
      "Archivo CSV almacenado en: C:\\Users\\Juan\\Documents\\Universidad\\ETL\\data\\gdp_by_industry.csv\n"
     ]
    }
   ],
   "source": [
    "import requests\n",
    "import pandas as pd\n",
    "import matplotlib.pyplot as plt\n",
    "import os\n",
    "from dotenv import load_dotenv\n",
    "\n",
    "# Cargar las variables de entorno desde el archivo .env\n",
    "load_dotenv()\n",
    "\n",
    "# Obtener la clave de la API desde la variable de entorno\n",
    "api_key = os.getenv('BEA_API_KEY')\n",
    "\n",
    "if api_key is None:\n",
    "    print(\"Error: La clave de API no está configurada correctamente.\")\n",
    "else:\n",
    "    # Definir la URL de la API\n",
    "    url = \"https://apps.bea.gov/api/data\"\n",
    "\n",
    "    # Parámetros de la solicitud para obtener datos de GDP por industria\n",
    "    params = {\n",
    "        \"UserID\": api_key,\n",
    "        \"method\": \"GetData\",\n",
    "        \"datasetname\": \"GDPbyIndustry\",\n",
    "        \"TableName\": \"ALL\",  # Consultar todas las tablas (puedes especificar una tabla si prefieres)\n",
    "        \"Year\": \"2017,2018,2019,2020,2021\",  # Últimos 5 años\n",
    "        \"Frequency\": \"A\",  # Datos anuales\n",
    "        \"Industry\": \"ALL\",  # Todas las industrias\n",
    "        \"TableID\": \"ALL\",  # Todas las tablas\n",
    "        \"ResultFormat\": \"json\"\n",
    "    }\n",
    "\n",
    "    try:\n",
    "        # Realizar la solicitud GET a la API de BEA\n",
    "        response = requests.get(url, params=params)\n",
    "\n",
    "        # Verificar si la solicitud fue exitosa\n",
    "        if response.status_code == 200:\n",
    "            # Parsear la respuesta JSON\n",
    "            data = response.json()\n",
    "\n",
    "            # Verificar si la respuesta contiene resultados\n",
    "            if 'Results' in data['BEAAPI']:\n",
    "                # Extraer los datos\n",
    "                results = data['BEAAPI']['Results'][0]['Data']\n",
    "                \n",
    "                # Convertir los datos en un DataFrame de pandas\n",
    "                df = pd.DataFrame(results)\n",
    "                \n",
    "                # Definir la ruta de almacenamiento\n",
    "                output_path = r\"C:\\Users\\Juan\\Documents\\Universidad\\ETL\\data\\gdp_by_industry.csv\"\n",
    "                \n",
    "                # Guardar el DataFrame en formato CSV en la ruta especificada\n",
    "                df.to_csv(output_path, index=False)\n",
    "                print(f\"Archivo CSV almacenado en: {output_path}\")\n",
    "                \n",
    "            else:\n",
    "                print(\"No se encontraron resultados en la respuesta.\")\n",
    "        else:\n",
    "            print(f\"Error en la solicitud. Código de estado: {response.status_code}\")\n",
    "\n",
    "    except Exception as e:\n",
    "        print(f\"Error al procesar la solicitud: {e}\")\n"
   ]
  },
  {
   "cell_type": "code",
   "execution_count": 24,
   "metadata": {},
   "outputs": [
    {
     "name": "stdout",
     "output_type": "stream",
     "text": [
      "  TableID Frequency  Year Quarter Industry  \\\n",
      "0       1         A  2017    2017       11   \n",
      "1       1         A  2017    2017    111CA   \n",
      "2       1         A  2017    2017    113FF   \n",
      "3       1         A  2017    2017       21   \n",
      "4       1         A  2017    2017      211   \n",
      "\n",
      "                           IndustrYDescription DataValue NoteRef  \n",
      "0  Agriculture, forestry, fishing, and hunting     176.8       1  \n",
      "1                                        Farms     138.7       1  \n",
      "2    Forestry, fishing, and related activities      38.1       1  \n",
      "3                                       Mining     267.3       1  \n",
      "4                       Oil and gas extraction     161.1       1  \n",
      "Index(['TableID', 'Frequency', 'Year', 'Quarter', 'Industry',\n",
      "       'IndustrYDescription', 'DataValue', 'NoteRef'],\n",
      "      dtype='object')\n"
     ]
    }
   ],
   "source": [
    "# Print the first few rows and column names of the DataFrame\n",
    "print(df.head())\n",
    "print(df.columns)\n"
   ]
  }
 ],
 "metadata": {
  "kernelspec": {
   "display_name": ".venv",
   "language": "python",
   "name": "python3"
  },
  "language_info": {
   "codemirror_mode": {
    "name": "ipython",
    "version": 3
   },
   "file_extension": ".py",
   "mimetype": "text/x-python",
   "name": "python",
   "nbconvert_exporter": "python",
   "pygments_lexer": "ipython3",
   "version": "3.12.6"
  }
 },
 "nbformat": 4,
 "nbformat_minor": 2
}
