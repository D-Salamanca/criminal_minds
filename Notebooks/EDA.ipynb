{
 "cells": [
  {
   "cell_type": "markdown",
   "metadata": {},
   "source": [
    "<h1 color='Green'>EDA</h1>"
   ]
  },
  {
   "cell_type": "code",
   "execution_count": 43,
   "metadata": {},
   "outputs": [],
   "source": [
    "#preprocessing stage\n",
    "#own libs\n",
    "import sys \n",
    "sys.path.append('../src')\n",
    "from db_connection import conn\n",
    "#public libs\n",
    "import pandas as pd\n",
    "import matplotlib.pyplot as plt\n"
   ]
  },
  {
   "cell_type": "code",
   "execution_count": 44,
   "metadata": {},
   "outputs": [],
   "source": [
    "#Load the dataset until sql\n",
    "q = 'SELECT * FROM criminal_mind_raw' #Query to load all columns from the raw data table\n",
    "df_raw = pd.read_sql(sql=q, con=conn.engine) #Use pd to load the data in python"
   ]
  },
  {
   "cell_type": "code",
   "execution_count": 45,
   "metadata": {},
   "outputs": [
    {
     "data": {
      "text/html": [
       "<div>\n",
       "<style scoped>\n",
       "    .dataframe tbody tr th:only-of-type {\n",
       "        vertical-align: middle;\n",
       "    }\n",
       "\n",
       "    .dataframe tbody tr th {\n",
       "        vertical-align: top;\n",
       "    }\n",
       "\n",
       "    .dataframe thead th {\n",
       "        text-align: right;\n",
       "    }\n",
       "</style>\n",
       "<table border=\"1\" class=\"dataframe\">\n",
       "  <thead>\n",
       "    <tr style=\"text-align: right;\">\n",
       "      <th></th>\n",
       "      <th>DR_NO</th>\n",
       "      <th>Date Rptd</th>\n",
       "      <th>DATE OCC</th>\n",
       "      <th>TIME OCC</th>\n",
       "      <th>AREA</th>\n",
       "      <th>AREA NAME</th>\n",
       "      <th>Rpt Dist No</th>\n",
       "      <th>Part 1-2</th>\n",
       "      <th>Crm Cd</th>\n",
       "      <th>Crm Cd Desc</th>\n",
       "      <th>...</th>\n",
       "      <th>Status</th>\n",
       "      <th>Status Desc</th>\n",
       "      <th>Crm Cd 1</th>\n",
       "      <th>Crm Cd 2</th>\n",
       "      <th>Crm Cd 3</th>\n",
       "      <th>Crm Cd 4</th>\n",
       "      <th>LOCATION</th>\n",
       "      <th>Cross Street</th>\n",
       "      <th>LAT</th>\n",
       "      <th>LON</th>\n",
       "    </tr>\n",
       "  </thead>\n",
       "  <tbody>\n",
       "    <tr>\n",
       "      <th>0</th>\n",
       "      <td>190326475</td>\n",
       "      <td>03/01/2020 12:00:00 AM</td>\n",
       "      <td>03/01/2020 12:00:00 AM</td>\n",
       "      <td>2130</td>\n",
       "      <td>7</td>\n",
       "      <td>Wilshire</td>\n",
       "      <td>784</td>\n",
       "      <td>1</td>\n",
       "      <td>510</td>\n",
       "      <td>VEHICLE - STOLEN</td>\n",
       "      <td>...</td>\n",
       "      <td>AA</td>\n",
       "      <td>Adult Arrest</td>\n",
       "      <td>510.0</td>\n",
       "      <td>998.0</td>\n",
       "      <td>NaN</td>\n",
       "      <td>NaN</td>\n",
       "      <td>1900 S  LONGWOOD                     AV</td>\n",
       "      <td>None</td>\n",
       "      <td>34.0375</td>\n",
       "      <td>-118.3506</td>\n",
       "    </tr>\n",
       "    <tr>\n",
       "      <th>1</th>\n",
       "      <td>200106753</td>\n",
       "      <td>02/09/2020 12:00:00 AM</td>\n",
       "      <td>02/08/2020 12:00:00 AM</td>\n",
       "      <td>1800</td>\n",
       "      <td>1</td>\n",
       "      <td>Central</td>\n",
       "      <td>182</td>\n",
       "      <td>1</td>\n",
       "      <td>330</td>\n",
       "      <td>BURGLARY FROM VEHICLE</td>\n",
       "      <td>...</td>\n",
       "      <td>IC</td>\n",
       "      <td>Invest Cont</td>\n",
       "      <td>330.0</td>\n",
       "      <td>998.0</td>\n",
       "      <td>NaN</td>\n",
       "      <td>NaN</td>\n",
       "      <td>1000 S  FLOWER                       ST</td>\n",
       "      <td>None</td>\n",
       "      <td>34.0444</td>\n",
       "      <td>-118.2628</td>\n",
       "    </tr>\n",
       "    <tr>\n",
       "      <th>2</th>\n",
       "      <td>200320258</td>\n",
       "      <td>11/11/2020 12:00:00 AM</td>\n",
       "      <td>11/04/2020 12:00:00 AM</td>\n",
       "      <td>1700</td>\n",
       "      <td>3</td>\n",
       "      <td>Southwest</td>\n",
       "      <td>356</td>\n",
       "      <td>1</td>\n",
       "      <td>480</td>\n",
       "      <td>BIKE - STOLEN</td>\n",
       "      <td>...</td>\n",
       "      <td>IC</td>\n",
       "      <td>Invest Cont</td>\n",
       "      <td>480.0</td>\n",
       "      <td>NaN</td>\n",
       "      <td>NaN</td>\n",
       "      <td>NaN</td>\n",
       "      <td>1400 W  37TH                         ST</td>\n",
       "      <td>None</td>\n",
       "      <td>34.0210</td>\n",
       "      <td>-118.3002</td>\n",
       "    </tr>\n",
       "    <tr>\n",
       "      <th>3</th>\n",
       "      <td>200907217</td>\n",
       "      <td>05/10/2023 12:00:00 AM</td>\n",
       "      <td>03/10/2020 12:00:00 AM</td>\n",
       "      <td>2037</td>\n",
       "      <td>9</td>\n",
       "      <td>Van Nuys</td>\n",
       "      <td>964</td>\n",
       "      <td>1</td>\n",
       "      <td>343</td>\n",
       "      <td>SHOPLIFTING-GRAND THEFT ($950.01 &amp; OVER)</td>\n",
       "      <td>...</td>\n",
       "      <td>IC</td>\n",
       "      <td>Invest Cont</td>\n",
       "      <td>343.0</td>\n",
       "      <td>NaN</td>\n",
       "      <td>NaN</td>\n",
       "      <td>NaN</td>\n",
       "      <td>14000    RIVERSIDE                    DR</td>\n",
       "      <td>None</td>\n",
       "      <td>34.1576</td>\n",
       "      <td>-118.4387</td>\n",
       "    </tr>\n",
       "    <tr>\n",
       "      <th>4</th>\n",
       "      <td>220614831</td>\n",
       "      <td>08/18/2022 12:00:00 AM</td>\n",
       "      <td>08/17/2020 12:00:00 AM</td>\n",
       "      <td>1200</td>\n",
       "      <td>6</td>\n",
       "      <td>Hollywood</td>\n",
       "      <td>666</td>\n",
       "      <td>2</td>\n",
       "      <td>354</td>\n",
       "      <td>THEFT OF IDENTITY</td>\n",
       "      <td>...</td>\n",
       "      <td>IC</td>\n",
       "      <td>Invest Cont</td>\n",
       "      <td>354.0</td>\n",
       "      <td>NaN</td>\n",
       "      <td>NaN</td>\n",
       "      <td>NaN</td>\n",
       "      <td>1900    TRANSIENT</td>\n",
       "      <td>None</td>\n",
       "      <td>34.0944</td>\n",
       "      <td>-118.3277</td>\n",
       "    </tr>\n",
       "  </tbody>\n",
       "</table>\n",
       "<p>5 rows × 28 columns</p>\n",
       "</div>"
      ],
      "text/plain": [
       "       DR_NO               Date Rptd                DATE OCC  TIME OCC  AREA  \\\n",
       "0  190326475  03/01/2020 12:00:00 AM  03/01/2020 12:00:00 AM      2130     7   \n",
       "1  200106753  02/09/2020 12:00:00 AM  02/08/2020 12:00:00 AM      1800     1   \n",
       "2  200320258  11/11/2020 12:00:00 AM  11/04/2020 12:00:00 AM      1700     3   \n",
       "3  200907217  05/10/2023 12:00:00 AM  03/10/2020 12:00:00 AM      2037     9   \n",
       "4  220614831  08/18/2022 12:00:00 AM  08/17/2020 12:00:00 AM      1200     6   \n",
       "\n",
       "   AREA NAME  Rpt Dist No  Part 1-2  Crm Cd  \\\n",
       "0   Wilshire          784         1     510   \n",
       "1    Central          182         1     330   \n",
       "2  Southwest          356         1     480   \n",
       "3   Van Nuys          964         1     343   \n",
       "4  Hollywood          666         2     354   \n",
       "\n",
       "                                Crm Cd Desc  ... Status   Status Desc  \\\n",
       "0                          VEHICLE - STOLEN  ...     AA  Adult Arrest   \n",
       "1                     BURGLARY FROM VEHICLE  ...     IC   Invest Cont   \n",
       "2                             BIKE - STOLEN  ...     IC   Invest Cont   \n",
       "3  SHOPLIFTING-GRAND THEFT ($950.01 & OVER)  ...     IC   Invest Cont   \n",
       "4                         THEFT OF IDENTITY  ...     IC   Invest Cont   \n",
       "\n",
       "  Crm Cd 1 Crm Cd 2  Crm Cd 3 Crm Cd 4  \\\n",
       "0    510.0    998.0       NaN      NaN   \n",
       "1    330.0    998.0       NaN      NaN   \n",
       "2    480.0      NaN       NaN      NaN   \n",
       "3    343.0      NaN       NaN      NaN   \n",
       "4    354.0      NaN       NaN      NaN   \n",
       "\n",
       "                                   LOCATION Cross Street      LAT       LON  \n",
       "0   1900 S  LONGWOOD                     AV         None  34.0375 -118.3506  \n",
       "1   1000 S  FLOWER                       ST         None  34.0444 -118.2628  \n",
       "2   1400 W  37TH                         ST         None  34.0210 -118.3002  \n",
       "3  14000    RIVERSIDE                    DR         None  34.1576 -118.4387  \n",
       "4                         1900    TRANSIENT         None  34.0944 -118.3277  \n",
       "\n",
       "[5 rows x 28 columns]"
      ]
     },
     "execution_count": 45,
     "metadata": {},
     "output_type": "execute_result"
    }
   ],
   "source": [
    "df_raw.head(5) #Show the first 5 rows"
   ]
  },
  {
   "cell_type": "code",
   "execution_count": 46,
   "metadata": {},
   "outputs": [
    {
     "data": {
      "text/plain": [
       "(966951, 28)"
      ]
     },
     "execution_count": 46,
     "metadata": {},
     "output_type": "execute_result"
    }
   ],
   "source": [
    "df_raw.shape #Show the Number of records"
   ]
  },
  {
   "cell_type": "code",
   "execution_count": 47,
   "metadata": {},
   "outputs": [
    {
     "name": "stdout",
     "output_type": "stream",
     "text": [
      "['DR_NO', 'Date Rptd', 'DATE OCC', 'TIME OCC', 'AREA', 'AREA NAME', 'Rpt Dist No', 'Part 1-2', 'Crm Cd', 'Crm Cd Desc', 'Mocodes', 'Vict Age', 'Vict Sex', 'Vict Descent', 'Premis Cd', 'Premis Desc', 'Weapon Used Cd', 'Weapon Desc', 'Status', 'Status Desc', 'Crm Cd 1', 'Crm Cd 2', 'Crm Cd 3', 'Crm Cd 4', 'LOCATION', 'Cross Street', 'LAT', 'LON']\n"
     ]
    }
   ],
   "source": [
    "columns = list(df_raw.keys()) #save the columns names as a list\n",
    "print(columns) #show this list"
   ]
  },
  {
   "cell_type": "code",
   "execution_count": 48,
   "metadata": {},
   "outputs": [
    {
     "name": "stdout",
     "output_type": "stream",
     "text": [
      "<class 'pandas.core.frame.DataFrame'>\n",
      "RangeIndex: 966951 entries, 0 to 966950\n",
      "Data columns (total 28 columns):\n",
      " #   Column          Non-Null Count   Dtype  \n",
      "---  ------          --------------   -----  \n",
      " 0   DR_NO           966951 non-null  int64  \n",
      " 1   Date Rptd       966951 non-null  object \n",
      " 2   DATE OCC        966951 non-null  object \n",
      " 3   TIME OCC        966951 non-null  int64  \n",
      " 4   AREA            966951 non-null  int64  \n",
      " 5   AREA NAME       966951 non-null  object \n",
      " 6   Rpt Dist No     966951 non-null  int64  \n",
      " 7   Part 1-2        966951 non-null  int64  \n",
      " 8   Crm Cd          966951 non-null  int64  \n",
      " 9   Crm Cd Desc     966951 non-null  object \n",
      " 10  Mocodes         826575 non-null  object \n",
      " 11  Vict Age        966951 non-null  int64  \n",
      " 12  Vict Sex        833245 non-null  object \n",
      " 13  Vict Descent    833235 non-null  object \n",
      " 14  Premis Cd       966937 non-null  float64\n",
      " 15  Premis Desc     966375 non-null  object \n",
      " 16  Weapon Used Cd  325476 non-null  float64\n",
      " 17  Weapon Desc     325476 non-null  object \n",
      " 18  Status          966950 non-null  object \n",
      " 19  Status Desc     966951 non-null  object \n",
      " 20  Crm Cd 1        966940 non-null  float64\n",
      " 21  Crm Cd 2        68656 non-null   float64\n",
      " 22  Crm Cd 3        2302 non-null    float64\n",
      " 23  Crm Cd 4        64 non-null      float64\n",
      " 24  LOCATION        966951 non-null  object \n",
      " 25  Cross Street    150218 non-null  object \n",
      " 26  LAT             966951 non-null  float64\n",
      " 27  LON             966951 non-null  float64\n",
      "dtypes: float64(8), int64(7), object(13)\n",
      "memory usage: 206.6+ MB\n"
     ]
    }
   ],
   "source": [
    "df_raw.info()"
   ]
  },
  {
   "cell_type": "code",
   "execution_count": 49,
   "metadata": {},
   "outputs": [
    {
     "name": "stdout",
     "output_type": "stream",
     "text": [
      "['STRONG-ARM (HANDS, FIST, FEET OR BODILY FORCE)', 'VEHICLE', 'UNKNOWN WEAPON/OTHER WEAPON', 'VERBAL THREAT', 'BELT FLAILING INSTRUMENT/CHAIN', 'HAND GUN', 'UNKNOWN FIREARM', 'KNIFE WITH BLADE 6INCHES OR LESS', 'FIXED OBJECT', 'KITCHEN KNIFE', 'MACHETE', 'UNKNOWN TYPE CUTTING INSTRUMENT', 'MACE/PEPPER SPRAY', 'STICK', 'OTHER KNIFE', 'PHYSICAL PRESENCE', 'KNIFE WITH BLADE OVER 6 INCHES IN LENGTH', 'HAMMER', 'AIR PISTOL/REVOLVER/RIFLE/BB GUN', 'SEMI-AUTOMATIC PISTOL', 'SIMULATED GUN', 'RAZOR', 'OTHER FIREARM', 'FOLDING KNIFE', 'PIPE/METAL PIPE', 'ROCK/THROWN OBJECT', 'RIFLE', 'OTHER CUTTING INSTRUMENT', 'FIRE', 'REVOLVER', 'BOTTLE', 'SCISSORS', 'SWITCH BLADE', 'BRASS KNUCKLES', 'CLUB/BAT', 'BLUNT INSTRUMENT', 'BOARD', 'STUN GUN', 'CLEAVER', 'RAZOR BLADE', 'SCREWDRIVER', 'SHOTGUN', 'CONCRETE BLOCK/BRICK', 'CAUSTIC CHEMICAL/POISON', 'SEMI-AUTOMATIC RIFLE', 'SCALDING LIQUID', 'TIRE IRON', 'BOWIE KNIFE', 'GLASS', 'AXE', 'TOY GUN', 'BOMB THREAT', 'SAWED OFF RIFLE/SHOTGUN', 'MARTIAL ARTS WEAPONS', 'DEMAND NOTE', 'DIRK/DAGGER', 'ASSAULT WEAPON/UZI/AK47/ETC', 'ROPE/LIGATURE', 'HECKLER & KOCH 93 SEMIAUTOMATIC ASSAULT RIFLE', 'EXPLOXIVE DEVICE', 'SWORD', 'MAC-11 SEMIAUTOMATIC ASSAULT WEAPON', 'SYRINGE', 'BOW AND ARROW', 'LIQUOR/DRUGS', 'DOG/ANIMAL (SIC ANIMAL ON)', 'BLACKJACK', 'ICE PICK', 'RELIC FIREARM', 'AUTOMATIC WEAPON/SUB-MACHINE GUN', 'ANTIQUE FIREARM', 'HECKLER & KOCH 91 SEMIAUTOMATIC ASSAULT RIFLE', 'STRAIGHT RAZOR', 'M1-1 SEMIAUTOMATIC ASSAULT RIFLE', 'STARTER PISTOL/REVOLVER', 'UZI SEMIAUTOMATIC ASSAULT RIFLE', 'MAC-10 SEMIAUTOMATIC ASSAULT WEAPON', 'UNK TYPE SEMIAUTOMATIC ASSAULT RIFLE', 'M-14 SEMIAUTOMATIC ASSAULT RIFLE']\n",
      "Total Weapons:  79\n"
     ]
    }
   ],
   "source": [
    "weapon_list = list(df_raw[df_raw['Weapon Desc'].notna()]['Weapon Desc'].unique()) #Save the exist weapons in the dataset on a list\n",
    "print(weapon_list)#show this list\n",
    "print('Total Weapons: ',len(weapon_list))"
   ]
  },
  {
   "cell_type": "code",
   "execution_count": 50,
   "metadata": {},
   "outputs": [
    {
     "data": {
      "text/html": [
       "<div>\n",
       "<style scoped>\n",
       "    .dataframe tbody tr th:only-of-type {\n",
       "        vertical-align: middle;\n",
       "    }\n",
       "\n",
       "    .dataframe tbody tr th {\n",
       "        vertical-align: top;\n",
       "    }\n",
       "\n",
       "    .dataframe thead th {\n",
       "        text-align: right;\n",
       "    }\n",
       "</style>\n",
       "<table border=\"1\" class=\"dataframe\">\n",
       "  <thead>\n",
       "    <tr style=\"text-align: right;\">\n",
       "      <th></th>\n",
       "      <th>DR_NO</th>\n",
       "      <th>TIME OCC</th>\n",
       "      <th>AREA</th>\n",
       "      <th>Rpt Dist No</th>\n",
       "      <th>Part 1-2</th>\n",
       "      <th>Crm Cd</th>\n",
       "      <th>Vict Age</th>\n",
       "      <th>Premis Cd</th>\n",
       "      <th>Weapon Used Cd</th>\n",
       "      <th>Crm Cd 1</th>\n",
       "      <th>Crm Cd 2</th>\n",
       "      <th>Crm Cd 3</th>\n",
       "      <th>Crm Cd 4</th>\n",
       "      <th>LAT</th>\n",
       "      <th>LON</th>\n",
       "    </tr>\n",
       "  </thead>\n",
       "  <tbody>\n",
       "    <tr>\n",
       "      <th>count</th>\n",
       "      <td>9.669510e+05</td>\n",
       "      <td>966951.000000</td>\n",
       "      <td>966951.000000</td>\n",
       "      <td>966951.000000</td>\n",
       "      <td>966951.000000</td>\n",
       "      <td>966951.000000</td>\n",
       "      <td>966951.000000</td>\n",
       "      <td>966937.000000</td>\n",
       "      <td>325476.000000</td>\n",
       "      <td>966940.000000</td>\n",
       "      <td>68656.000000</td>\n",
       "      <td>2302.000000</td>\n",
       "      <td>64.00000</td>\n",
       "      <td>966951.000000</td>\n",
       "      <td>966951.000000</td>\n",
       "    </tr>\n",
       "    <tr>\n",
       "      <th>mean</th>\n",
       "      <td>2.193982e+08</td>\n",
       "      <td>1338.527823</td>\n",
       "      <td>10.709131</td>\n",
       "      <td>1117.347158</td>\n",
       "      <td>1.406110</td>\n",
       "      <td>500.669410</td>\n",
       "      <td>29.255533</td>\n",
       "      <td>306.113877</td>\n",
       "      <td>363.765344</td>\n",
       "      <td>500.420543</td>\n",
       "      <td>958.131423</td>\n",
       "      <td>984.150304</td>\n",
       "      <td>991.21875</td>\n",
       "      <td>33.994432</td>\n",
       "      <td>-118.077857</td>\n",
       "    </tr>\n",
       "    <tr>\n",
       "      <th>std</th>\n",
       "      <td>1.276448e+07</td>\n",
       "      <td>651.932723</td>\n",
       "      <td>6.104141</td>\n",
       "      <td>610.495051</td>\n",
       "      <td>0.491106</td>\n",
       "      <td>206.527476</td>\n",
       "      <td>21.935881</td>\n",
       "      <td>218.295446</td>\n",
       "      <td>123.648010</td>\n",
       "      <td>206.323015</td>\n",
       "      <td>110.282275</td>\n",
       "      <td>51.578870</td>\n",
       "      <td>27.06985</td>\n",
       "      <td>1.649863</td>\n",
       "      <td>5.718652</td>\n",
       "    </tr>\n",
       "    <tr>\n",
       "      <th>min</th>\n",
       "      <td>8.170000e+02</td>\n",
       "      <td>1.000000</td>\n",
       "      <td>1.000000</td>\n",
       "      <td>101.000000</td>\n",
       "      <td>1.000000</td>\n",
       "      <td>110.000000</td>\n",
       "      <td>-4.000000</td>\n",
       "      <td>101.000000</td>\n",
       "      <td>101.000000</td>\n",
       "      <td>110.000000</td>\n",
       "      <td>210.000000</td>\n",
       "      <td>310.000000</td>\n",
       "      <td>821.00000</td>\n",
       "      <td>0.000000</td>\n",
       "      <td>-118.667600</td>\n",
       "    </tr>\n",
       "    <tr>\n",
       "      <th>25%</th>\n",
       "      <td>2.105170e+08</td>\n",
       "      <td>900.000000</td>\n",
       "      <td>6.000000</td>\n",
       "      <td>615.000000</td>\n",
       "      <td>1.000000</td>\n",
       "      <td>331.000000</td>\n",
       "      <td>0.000000</td>\n",
       "      <td>101.000000</td>\n",
       "      <td>311.000000</td>\n",
       "      <td>331.000000</td>\n",
       "      <td>998.000000</td>\n",
       "      <td>998.000000</td>\n",
       "      <td>998.00000</td>\n",
       "      <td>34.014600</td>\n",
       "      <td>-118.430700</td>\n",
       "    </tr>\n",
       "    <tr>\n",
       "      <th>50%</th>\n",
       "      <td>2.207183e+08</td>\n",
       "      <td>1420.000000</td>\n",
       "      <td>11.000000</td>\n",
       "      <td>1141.000000</td>\n",
       "      <td>1.000000</td>\n",
       "      <td>442.000000</td>\n",
       "      <td>30.000000</td>\n",
       "      <td>203.000000</td>\n",
       "      <td>400.000000</td>\n",
       "      <td>442.000000</td>\n",
       "      <td>998.000000</td>\n",
       "      <td>998.000000</td>\n",
       "      <td>998.00000</td>\n",
       "      <td>34.058900</td>\n",
       "      <td>-118.322500</td>\n",
       "    </tr>\n",
       "    <tr>\n",
       "      <th>75%</th>\n",
       "      <td>2.308138e+08</td>\n",
       "      <td>1900.000000</td>\n",
       "      <td>16.000000</td>\n",
       "      <td>1617.000000</td>\n",
       "      <td>2.000000</td>\n",
       "      <td>626.000000</td>\n",
       "      <td>45.000000</td>\n",
       "      <td>501.000000</td>\n",
       "      <td>400.000000</td>\n",
       "      <td>626.000000</td>\n",
       "      <td>998.000000</td>\n",
       "      <td>998.000000</td>\n",
       "      <td>998.00000</td>\n",
       "      <td>34.164900</td>\n",
       "      <td>-118.273900</td>\n",
       "    </tr>\n",
       "    <tr>\n",
       "      <th>max</th>\n",
       "      <td>2.499187e+08</td>\n",
       "      <td>2359.000000</td>\n",
       "      <td>21.000000</td>\n",
       "      <td>2199.000000</td>\n",
       "      <td>2.000000</td>\n",
       "      <td>956.000000</td>\n",
       "      <td>120.000000</td>\n",
       "      <td>976.000000</td>\n",
       "      <td>516.000000</td>\n",
       "      <td>956.000000</td>\n",
       "      <td>999.000000</td>\n",
       "      <td>999.000000</td>\n",
       "      <td>999.00000</td>\n",
       "      <td>34.334300</td>\n",
       "      <td>0.000000</td>\n",
       "    </tr>\n",
       "  </tbody>\n",
       "</table>\n",
       "</div>"
      ],
      "text/plain": [
       "              DR_NO       TIME OCC           AREA    Rpt Dist No  \\\n",
       "count  9.669510e+05  966951.000000  966951.000000  966951.000000   \n",
       "mean   2.193982e+08    1338.527823      10.709131    1117.347158   \n",
       "std    1.276448e+07     651.932723       6.104141     610.495051   \n",
       "min    8.170000e+02       1.000000       1.000000     101.000000   \n",
       "25%    2.105170e+08     900.000000       6.000000     615.000000   \n",
       "50%    2.207183e+08    1420.000000      11.000000    1141.000000   \n",
       "75%    2.308138e+08    1900.000000      16.000000    1617.000000   \n",
       "max    2.499187e+08    2359.000000      21.000000    2199.000000   \n",
       "\n",
       "            Part 1-2         Crm Cd       Vict Age      Premis Cd  \\\n",
       "count  966951.000000  966951.000000  966951.000000  966937.000000   \n",
       "mean        1.406110     500.669410      29.255533     306.113877   \n",
       "std         0.491106     206.527476      21.935881     218.295446   \n",
       "min         1.000000     110.000000      -4.000000     101.000000   \n",
       "25%         1.000000     331.000000       0.000000     101.000000   \n",
       "50%         1.000000     442.000000      30.000000     203.000000   \n",
       "75%         2.000000     626.000000      45.000000     501.000000   \n",
       "max         2.000000     956.000000     120.000000     976.000000   \n",
       "\n",
       "       Weapon Used Cd       Crm Cd 1      Crm Cd 2     Crm Cd 3   Crm Cd 4  \\\n",
       "count   325476.000000  966940.000000  68656.000000  2302.000000   64.00000   \n",
       "mean       363.765344     500.420543    958.131423   984.150304  991.21875   \n",
       "std        123.648010     206.323015    110.282275    51.578870   27.06985   \n",
       "min        101.000000     110.000000    210.000000   310.000000  821.00000   \n",
       "25%        311.000000     331.000000    998.000000   998.000000  998.00000   \n",
       "50%        400.000000     442.000000    998.000000   998.000000  998.00000   \n",
       "75%        400.000000     626.000000    998.000000   998.000000  998.00000   \n",
       "max        516.000000     956.000000    999.000000   999.000000  999.00000   \n",
       "\n",
       "                 LAT            LON  \n",
       "count  966951.000000  966951.000000  \n",
       "mean       33.994432    -118.077857  \n",
       "std         1.649863       5.718652  \n",
       "min         0.000000    -118.667600  \n",
       "25%        34.014600    -118.430700  \n",
       "50%        34.058900    -118.322500  \n",
       "75%        34.164900    -118.273900  \n",
       "max        34.334300       0.000000  "
      ]
     },
     "execution_count": 50,
     "metadata": {},
     "output_type": "execute_result"
    }
   ],
   "source": [
    "df_raw.describe()"
   ]
  },
  {
   "cell_type": "markdown",
   "metadata": {},
   "source": [
    "We see in the Min value of Vict Age is a negative value thats incorrect "
   ]
  },
  {
   "cell_type": "code",
   "execution_count": 51,
   "metadata": {},
   "outputs": [],
   "source": [
    "#Drop the negative age records\n",
    "df_raw = df_raw[df_raw['Vict Age']>=0]"
   ]
  },
  {
   "cell_type": "code",
   "execution_count": 52,
   "metadata": {},
   "outputs": [
    {
     "data": {
      "text/plain": [
       "(966822, 28)"
      ]
     },
     "execution_count": 52,
     "metadata": {},
     "output_type": "execute_result"
    }
   ],
   "source": [
    "df_raw.shape"
   ]
  },
  {
   "cell_type": "markdown",
   "metadata": {},
   "source": [
    "---"
   ]
  },
  {
   "cell_type": "markdown",
   "metadata": {},
   "source": [
    "Now we look for the statistics about the categorical values"
   ]
  },
  {
   "cell_type": "code",
   "execution_count": 53,
   "metadata": {},
   "outputs": [
    {
     "data": {
      "text/html": [
       "<div>\n",
       "<style scoped>\n",
       "    .dataframe tbody tr th:only-of-type {\n",
       "        vertical-align: middle;\n",
       "    }\n",
       "\n",
       "    .dataframe tbody tr th {\n",
       "        vertical-align: top;\n",
       "    }\n",
       "\n",
       "    .dataframe thead th {\n",
       "        text-align: right;\n",
       "    }\n",
       "</style>\n",
       "<table border=\"1\" class=\"dataframe\">\n",
       "  <thead>\n",
       "    <tr style=\"text-align: right;\">\n",
       "      <th></th>\n",
       "      <th>Date Rptd</th>\n",
       "      <th>DATE OCC</th>\n",
       "      <th>AREA NAME</th>\n",
       "      <th>Crm Cd Desc</th>\n",
       "      <th>Mocodes</th>\n",
       "      <th>Vict Sex</th>\n",
       "      <th>Vict Descent</th>\n",
       "      <th>Premis Desc</th>\n",
       "      <th>Weapon Desc</th>\n",
       "      <th>Status</th>\n",
       "      <th>Status Desc</th>\n",
       "      <th>LOCATION</th>\n",
       "      <th>Cross Street</th>\n",
       "    </tr>\n",
       "  </thead>\n",
       "  <tbody>\n",
       "    <tr>\n",
       "      <th>count</th>\n",
       "      <td>966822</td>\n",
       "      <td>966822</td>\n",
       "      <td>966822</td>\n",
       "      <td>966822</td>\n",
       "      <td>826450</td>\n",
       "      <td>833116</td>\n",
       "      <td>833106</td>\n",
       "      <td>966246</td>\n",
       "      <td>325465</td>\n",
       "      <td>966821</td>\n",
       "      <td>966822</td>\n",
       "      <td>966822</td>\n",
       "      <td>150209</td>\n",
       "    </tr>\n",
       "    <tr>\n",
       "      <th>unique</th>\n",
       "      <td>1679</td>\n",
       "      <td>1679</td>\n",
       "      <td>21</td>\n",
       "      <td>139</td>\n",
       "      <td>308328</td>\n",
       "      <td>5</td>\n",
       "      <td>20</td>\n",
       "      <td>306</td>\n",
       "      <td>79</td>\n",
       "      <td>6</td>\n",
       "      <td>6</td>\n",
       "      <td>66043</td>\n",
       "      <td>10265</td>\n",
       "    </tr>\n",
       "    <tr>\n",
       "      <th>top</th>\n",
       "      <td>02/03/2023 12:00:00 AM</td>\n",
       "      <td>01/01/2020 12:00:00 AM</td>\n",
       "      <td>Central</td>\n",
       "      <td>VEHICLE - STOLEN</td>\n",
       "      <td>0344</td>\n",
       "      <td>M</td>\n",
       "      <td>H</td>\n",
       "      <td>STREET</td>\n",
       "      <td>STRONG-ARM (HANDS, FIST, FEET OR BODILY FORCE)</td>\n",
       "      <td>IC</td>\n",
       "      <td>Invest Cont</td>\n",
       "      <td>800 N  ALAMEDA                      ST</td>\n",
       "      <td>BROADWAY</td>\n",
       "    </tr>\n",
       "    <tr>\n",
       "      <th>freq</th>\n",
       "      <td>925</td>\n",
       "      <td>1145</td>\n",
       "      <td>66219</td>\n",
       "      <td>107348</td>\n",
       "      <td>39863</td>\n",
       "      <td>392358</td>\n",
       "      <td>290134</td>\n",
       "      <td>248354</td>\n",
       "      <td>174192</td>\n",
       "      <td>771556</td>\n",
       "      <td>771556</td>\n",
       "      <td>2297</td>\n",
       "      <td>2445</td>\n",
       "    </tr>\n",
       "  </tbody>\n",
       "</table>\n",
       "</div>"
      ],
      "text/plain": [
       "                     Date Rptd                DATE OCC AREA NAME  \\\n",
       "count                   966822                  966822    966822   \n",
       "unique                    1679                    1679        21   \n",
       "top     02/03/2023 12:00:00 AM  01/01/2020 12:00:00 AM   Central   \n",
       "freq                       925                    1145     66219   \n",
       "\n",
       "             Crm Cd Desc Mocodes Vict Sex Vict Descent Premis Desc  \\\n",
       "count             966822  826450   833116       833106      966246   \n",
       "unique               139  308328        5           20         306   \n",
       "top     VEHICLE - STOLEN    0344        M            H      STREET   \n",
       "freq              107348   39863   392358       290134      248354   \n",
       "\n",
       "                                           Weapon Desc  Status  Status Desc  \\\n",
       "count                                           325465  966821       966822   \n",
       "unique                                              79       6            6   \n",
       "top     STRONG-ARM (HANDS, FIST, FEET OR BODILY FORCE)      IC  Invest Cont   \n",
       "freq                                            174192  771556       771556   \n",
       "\n",
       "                                      LOCATION Cross Street  \n",
       "count                                   966822       150209  \n",
       "unique                                   66043        10265  \n",
       "top     800 N  ALAMEDA                      ST     BROADWAY  \n",
       "freq                                      2297         2445  "
      ]
     },
     "execution_count": 53,
     "metadata": {},
     "output_type": "execute_result"
    }
   ],
   "source": [
    "df_raw.describe(include='object') #show some statistics about categorical variables"
   ]
  },
  {
   "cell_type": "code",
   "execution_count": 54,
   "metadata": {},
   "outputs": [
    {
     "data": {
      "text/plain": [
       "array(['AA', 'IC', 'JA', 'AO', 'JO', 'CC', None], dtype=object)"
      ]
     },
     "execution_count": 54,
     "metadata": {},
     "output_type": "execute_result"
    }
   ],
   "source": [
    "df_raw['Status'].unique()#Show all the differents records in the status column"
   ]
  },
  {
   "cell_type": "code",
   "execution_count": 55,
   "metadata": {},
   "outputs": [
    {
     "data": {
      "text/plain": [
       "array(['Adult Arrest', 'Invest Cont', 'Juv Arrest', 'Adult Other',\n",
       "       'Juv Other', 'UNK'], dtype=object)"
      ]
     },
     "execution_count": 55,
     "metadata": {},
     "output_type": "execute_result"
    }
   ],
   "source": [
    "df_raw['Status Desc'].unique()#Show all the differents records in the Status Desc column"
   ]
  },
  {
   "cell_type": "code",
   "execution_count": 56,
   "metadata": {},
   "outputs": [
    {
     "data": {
      "text/html": [
       "<div>\n",
       "<style scoped>\n",
       "    .dataframe tbody tr th:only-of-type {\n",
       "        vertical-align: middle;\n",
       "    }\n",
       "\n",
       "    .dataframe tbody tr th {\n",
       "        vertical-align: top;\n",
       "    }\n",
       "\n",
       "    .dataframe thead th {\n",
       "        text-align: right;\n",
       "    }\n",
       "</style>\n",
       "<table border=\"1\" class=\"dataframe\">\n",
       "  <thead>\n",
       "    <tr style=\"text-align: right;\">\n",
       "      <th></th>\n",
       "      <th>Status</th>\n",
       "      <th>Status Desc</th>\n",
       "    </tr>\n",
       "  </thead>\n",
       "  <tbody>\n",
       "    <tr>\n",
       "      <th>880017</th>\n",
       "      <td>None</td>\n",
       "      <td>UNK</td>\n",
       "    </tr>\n",
       "  </tbody>\n",
       "</table>\n",
       "</div>"
      ],
      "text/plain": [
       "       Status Status Desc\n",
       "880017   None         UNK"
      ]
     },
     "execution_count": 56,
     "metadata": {},
     "output_type": "execute_result"
    }
   ],
   "source": [
    "df_raw[df_raw['Status'].isna()][['Status', 'Status Desc']]#We saw when the status is null the description is UNK"
   ]
  },
  {
   "cell_type": "code",
   "execution_count": 57,
   "metadata": {},
   "outputs": [
    {
     "data": {
      "text/html": [
       "<div>\n",
       "<style scoped>\n",
       "    .dataframe tbody tr th:only-of-type {\n",
       "        vertical-align: middle;\n",
       "    }\n",
       "\n",
       "    .dataframe tbody tr th {\n",
       "        vertical-align: top;\n",
       "    }\n",
       "\n",
       "    .dataframe thead th {\n",
       "        text-align: right;\n",
       "    }\n",
       "</style>\n",
       "<table border=\"1\" class=\"dataframe\">\n",
       "  <thead>\n",
       "    <tr style=\"text-align: right;\">\n",
       "      <th></th>\n",
       "      <th>Status</th>\n",
       "      <th>Status Desc</th>\n",
       "    </tr>\n",
       "  </thead>\n",
       "  <tbody>\n",
       "    <tr>\n",
       "      <th>487696</th>\n",
       "      <td>CC</td>\n",
       "      <td>UNK</td>\n",
       "    </tr>\n",
       "    <tr>\n",
       "      <th>606767</th>\n",
       "      <td>CC</td>\n",
       "      <td>UNK</td>\n",
       "    </tr>\n",
       "    <tr>\n",
       "      <th>724910</th>\n",
       "      <td>CC</td>\n",
       "      <td>UNK</td>\n",
       "    </tr>\n",
       "    <tr>\n",
       "      <th>817229</th>\n",
       "      <td>CC</td>\n",
       "      <td>UNK</td>\n",
       "    </tr>\n",
       "    <tr>\n",
       "      <th>849205</th>\n",
       "      <td>CC</td>\n",
       "      <td>UNK</td>\n",
       "    </tr>\n",
       "    <tr>\n",
       "      <th>916756</th>\n",
       "      <td>CC</td>\n",
       "      <td>UNK</td>\n",
       "    </tr>\n",
       "  </tbody>\n",
       "</table>\n",
       "</div>"
      ],
      "text/plain": [
       "       Status Status Desc\n",
       "487696     CC         UNK\n",
       "606767     CC         UNK\n",
       "724910     CC         UNK\n",
       "817229     CC         UNK\n",
       "849205     CC         UNK\n",
       "916756     CC         UNK"
      ]
     },
     "execution_count": 57,
     "metadata": {},
     "output_type": "execute_result"
    }
   ],
   "source": [
    "df_raw[df_raw['Status'] == 'CC'][['Status', 'Status Desc']]#We saw when the status is CC the description is UNK too"
   ]
  },
  {
   "cell_type": "markdown",
   "metadata": {},
   "source": [
    "#### UNK is the status desc of nulls and CC"
   ]
  },
  {
   "cell_type": "code",
   "execution_count": 58,
   "metadata": {},
   "outputs": [
    {
     "data": {
      "text/plain": [
       "array(['M', 'X', 'F', None, 'H', '-'], dtype=object)"
      ]
     },
     "execution_count": 58,
     "metadata": {},
     "output_type": "execute_result"
    }
   ],
   "source": [
    "df_raw['Vict Sex'].unique() #We see all the posible values into the Vict Sex Column"
   ]
  },
  {
   "cell_type": "markdown",
   "metadata": {},
   "source": [
    "---"
   ]
  },
  {
   "cell_type": "markdown",
   "metadata": {},
   "source": [
    "Looking in Vict Information\n"
   ]
  },
  {
   "cell_type": "code",
   "execution_count": 59,
   "metadata": {},
   "outputs": [
    {
     "data": {
      "text/html": [
       "<div>\n",
       "<style scoped>\n",
       "    .dataframe tbody tr th:only-of-type {\n",
       "        vertical-align: middle;\n",
       "    }\n",
       "\n",
       "    .dataframe tbody tr th {\n",
       "        vertical-align: top;\n",
       "    }\n",
       "\n",
       "    .dataframe thead th {\n",
       "        text-align: right;\n",
       "    }\n",
       "</style>\n",
       "<table border=\"1\" class=\"dataframe\">\n",
       "  <thead>\n",
       "    <tr style=\"text-align: right;\">\n",
       "      <th></th>\n",
       "      <th>AREA NAME</th>\n",
       "      <th>Status Desc</th>\n",
       "      <th>Vict Sex</th>\n",
       "    </tr>\n",
       "  </thead>\n",
       "  <tbody>\n",
       "    <tr>\n",
       "      <th>2</th>\n",
       "      <td>Southwest</td>\n",
       "      <td>Invest Cont</td>\n",
       "      <td>X</td>\n",
       "    </tr>\n",
       "    <tr>\n",
       "      <th>60</th>\n",
       "      <td>Central</td>\n",
       "      <td>Invest Cont</td>\n",
       "      <td>X</td>\n",
       "    </tr>\n",
       "    <tr>\n",
       "      <th>156</th>\n",
       "      <td>Harbor</td>\n",
       "      <td>Invest Cont</td>\n",
       "      <td>X</td>\n",
       "    </tr>\n",
       "    <tr>\n",
       "      <th>171</th>\n",
       "      <td>Southwest</td>\n",
       "      <td>Invest Cont</td>\n",
       "      <td>X</td>\n",
       "    </tr>\n",
       "    <tr>\n",
       "      <th>189</th>\n",
       "      <td>Northeast</td>\n",
       "      <td>Invest Cont</td>\n",
       "      <td>X</td>\n",
       "    </tr>\n",
       "    <tr>\n",
       "      <th>...</th>\n",
       "      <td>...</td>\n",
       "      <td>...</td>\n",
       "      <td>...</td>\n",
       "    </tr>\n",
       "    <tr>\n",
       "      <th>966916</th>\n",
       "      <td>Hollywood</td>\n",
       "      <td>Invest Cont</td>\n",
       "      <td>X</td>\n",
       "    </tr>\n",
       "    <tr>\n",
       "      <th>966919</th>\n",
       "      <td>N Hollywood</td>\n",
       "      <td>Adult Arrest</td>\n",
       "      <td>X</td>\n",
       "    </tr>\n",
       "    <tr>\n",
       "      <th>966921</th>\n",
       "      <td>Van Nuys</td>\n",
       "      <td>Invest Cont</td>\n",
       "      <td>X</td>\n",
       "    </tr>\n",
       "    <tr>\n",
       "      <th>966948</th>\n",
       "      <td>Central</td>\n",
       "      <td>Invest Cont</td>\n",
       "      <td>X</td>\n",
       "    </tr>\n",
       "    <tr>\n",
       "      <th>966949</th>\n",
       "      <td>Devonshire</td>\n",
       "      <td>Invest Cont</td>\n",
       "      <td>X</td>\n",
       "    </tr>\n",
       "  </tbody>\n",
       "</table>\n",
       "<p>91449 rows × 3 columns</p>\n",
       "</div>"
      ],
      "text/plain": [
       "          AREA NAME   Status Desc Vict Sex\n",
       "2         Southwest   Invest Cont        X\n",
       "60          Central   Invest Cont        X\n",
       "156          Harbor   Invest Cont        X\n",
       "171       Southwest   Invest Cont        X\n",
       "189       Northeast   Invest Cont        X\n",
       "...             ...           ...      ...\n",
       "966916    Hollywood   Invest Cont        X\n",
       "966919  N Hollywood  Adult Arrest        X\n",
       "966921     Van Nuys   Invest Cont        X\n",
       "966948      Central   Invest Cont        X\n",
       "966949   Devonshire   Invest Cont        X\n",
       "\n",
       "[91449 rows x 3 columns]"
      ]
     },
     "execution_count": 59,
     "metadata": {},
     "output_type": "execute_result"
    }
   ],
   "source": [
    "df_raw[(df_raw['Vict Sex']=='H') | (df_raw['Vict Sex']=='-') | (df_raw['Vict Sex']=='X')][['AREA NAME', 'Status Desc', 'Vict Sex']]"
   ]
  },
  {
   "cell_type": "markdown",
   "metadata": {},
   "source": [
    "\t\n",
    "Descent Code: A - Other Asian B - Black C - Chinese D - Cambodian F - Filipino G - Guamanian H - Hispanic/Latin/Mexican I - American Indian/Alaskan Native J - Japanese K - Korean L - Laotian O - Other P - Pacific Islander S - Samoan U - Hawaiian V - Vietnamese W - White X - Unknown Z - Asian Indian"
   ]
  },
  {
   "cell_type": "code",
   "execution_count": 60,
   "metadata": {},
   "outputs": [
    {
     "data": {
      "text/html": [
       "<div>\n",
       "<style scoped>\n",
       "    .dataframe tbody tr th:only-of-type {\n",
       "        vertical-align: middle;\n",
       "    }\n",
       "\n",
       "    .dataframe tbody tr th {\n",
       "        vertical-align: top;\n",
       "    }\n",
       "\n",
       "    .dataframe thead th {\n",
       "        text-align: right;\n",
       "    }\n",
       "</style>\n",
       "<table border=\"1\" class=\"dataframe\">\n",
       "  <thead>\n",
       "    <tr style=\"text-align: right;\">\n",
       "      <th></th>\n",
       "      <th>AREA NAME</th>\n",
       "      <th>Status Desc</th>\n",
       "      <th>Vict Sex</th>\n",
       "      <th>Vict Descent</th>\n",
       "    </tr>\n",
       "  </thead>\n",
       "  <tbody>\n",
       "    <tr>\n",
       "      <th>807173</th>\n",
       "      <td>Olympic</td>\n",
       "      <td>Invest Cont</td>\n",
       "      <td>-</td>\n",
       "      <td>-</td>\n",
       "    </tr>\n",
       "  </tbody>\n",
       "</table>\n",
       "</div>"
      ],
      "text/plain": [
       "       AREA NAME  Status Desc Vict Sex Vict Descent\n",
       "807173   Olympic  Invest Cont        -            -"
      ]
     },
     "execution_count": 60,
     "metadata": {},
     "output_type": "execute_result"
    }
   ],
   "source": [
    "df_raw[df_raw['Vict Sex'] == '-'][['AREA NAME', 'Status Desc', 'Vict Sex', 'Vict Descent']]"
   ]
  },
  {
   "cell_type": "code",
   "execution_count": 61,
   "metadata": {},
   "outputs": [
    {
     "data": {
      "text/html": [
       "<div>\n",
       "<style scoped>\n",
       "    .dataframe tbody tr th:only-of-type {\n",
       "        vertical-align: middle;\n",
       "    }\n",
       "\n",
       "    .dataframe tbody tr th {\n",
       "        vertical-align: top;\n",
       "    }\n",
       "\n",
       "    .dataframe thead th {\n",
       "        text-align: right;\n",
       "    }\n",
       "</style>\n",
       "<table border=\"1\" class=\"dataframe\">\n",
       "  <thead>\n",
       "    <tr style=\"text-align: right;\">\n",
       "      <th></th>\n",
       "      <th>AREA NAME</th>\n",
       "      <th>Status Desc</th>\n",
       "      <th>Vict Sex</th>\n",
       "      <th>Vict Descent</th>\n",
       "    </tr>\n",
       "  </thead>\n",
       "  <tbody>\n",
       "    <tr>\n",
       "      <th>17614</th>\n",
       "      <td>Wilshire</td>\n",
       "      <td>Invest Cont</td>\n",
       "      <td>H</td>\n",
       "      <td>H</td>\n",
       "    </tr>\n",
       "    <tr>\n",
       "      <th>21736</th>\n",
       "      <td>Wilshire</td>\n",
       "      <td>Invest Cont</td>\n",
       "      <td>H</td>\n",
       "      <td>F</td>\n",
       "    </tr>\n",
       "    <tr>\n",
       "      <th>30522</th>\n",
       "      <td>Olympic</td>\n",
       "      <td>Adult Other</td>\n",
       "      <td>H</td>\n",
       "      <td>H</td>\n",
       "    </tr>\n",
       "    <tr>\n",
       "      <th>38053</th>\n",
       "      <td>Rampart</td>\n",
       "      <td>Invest Cont</td>\n",
       "      <td>H</td>\n",
       "      <td>F</td>\n",
       "    </tr>\n",
       "    <tr>\n",
       "      <th>57043</th>\n",
       "      <td>Newton</td>\n",
       "      <td>Invest Cont</td>\n",
       "      <td>H</td>\n",
       "      <td>F</td>\n",
       "    </tr>\n",
       "    <tr>\n",
       "      <th>...</th>\n",
       "      <td>...</td>\n",
       "      <td>...</td>\n",
       "      <td>...</td>\n",
       "      <td>...</td>\n",
       "    </tr>\n",
       "    <tr>\n",
       "      <th>955937</th>\n",
       "      <td>Northeast</td>\n",
       "      <td>Invest Cont</td>\n",
       "      <td>H</td>\n",
       "      <td>F</td>\n",
       "    </tr>\n",
       "    <tr>\n",
       "      <th>957833</th>\n",
       "      <td>Olympic</td>\n",
       "      <td>Invest Cont</td>\n",
       "      <td>H</td>\n",
       "      <td>F</td>\n",
       "    </tr>\n",
       "    <tr>\n",
       "      <th>960459</th>\n",
       "      <td>Southwest</td>\n",
       "      <td>Invest Cont</td>\n",
       "      <td>H</td>\n",
       "      <td>X</td>\n",
       "    </tr>\n",
       "    <tr>\n",
       "      <th>960722</th>\n",
       "      <td>Central</td>\n",
       "      <td>Invest Cont</td>\n",
       "      <td>H</td>\n",
       "      <td>F</td>\n",
       "    </tr>\n",
       "    <tr>\n",
       "      <th>966572</th>\n",
       "      <td>Olympic</td>\n",
       "      <td>Invest Cont</td>\n",
       "      <td>H</td>\n",
       "      <td>W</td>\n",
       "    </tr>\n",
       "  </tbody>\n",
       "</table>\n",
       "<p>110 rows × 4 columns</p>\n",
       "</div>"
      ],
      "text/plain": [
       "        AREA NAME  Status Desc Vict Sex Vict Descent\n",
       "17614    Wilshire  Invest Cont        H            H\n",
       "21736    Wilshire  Invest Cont        H            F\n",
       "30522     Olympic  Adult Other        H            H\n",
       "38053     Rampart  Invest Cont        H            F\n",
       "57043      Newton  Invest Cont        H            F\n",
       "...           ...          ...      ...          ...\n",
       "955937  Northeast  Invest Cont        H            F\n",
       "957833    Olympic  Invest Cont        H            F\n",
       "960459  Southwest  Invest Cont        H            X\n",
       "960722    Central  Invest Cont        H            F\n",
       "966572    Olympic  Invest Cont        H            W\n",
       "\n",
       "[110 rows x 4 columns]"
      ]
     },
     "execution_count": 61,
     "metadata": {},
     "output_type": "execute_result"
    }
   ],
   "source": [
    "df_raw[df_raw['Vict Sex'] == 'H'][['AREA NAME', 'Status Desc', 'Vict Sex', 'Vict Descent']]"
   ]
  },
  {
   "cell_type": "code",
   "execution_count": 62,
   "metadata": {},
   "outputs": [
    {
     "data": {
      "text/html": [
       "<div>\n",
       "<style scoped>\n",
       "    .dataframe tbody tr th:only-of-type {\n",
       "        vertical-align: middle;\n",
       "    }\n",
       "\n",
       "    .dataframe tbody tr th {\n",
       "        vertical-align: top;\n",
       "    }\n",
       "\n",
       "    .dataframe thead th {\n",
       "        text-align: right;\n",
       "    }\n",
       "</style>\n",
       "<table border=\"1\" class=\"dataframe\">\n",
       "  <thead>\n",
       "    <tr style=\"text-align: right;\">\n",
       "      <th></th>\n",
       "      <th>AREA NAME</th>\n",
       "      <th>Status Desc</th>\n",
       "      <th>Vict Sex</th>\n",
       "      <th>Vict Descent</th>\n",
       "    </tr>\n",
       "  </thead>\n",
       "  <tbody>\n",
       "    <tr>\n",
       "      <th>count</th>\n",
       "      <td>110</td>\n",
       "      <td>110</td>\n",
       "      <td>110</td>\n",
       "      <td>110</td>\n",
       "    </tr>\n",
       "    <tr>\n",
       "      <th>unique</th>\n",
       "      <td>19</td>\n",
       "      <td>3</td>\n",
       "      <td>1</td>\n",
       "      <td>8</td>\n",
       "    </tr>\n",
       "    <tr>\n",
       "      <th>top</th>\n",
       "      <td>Newton</td>\n",
       "      <td>Invest Cont</td>\n",
       "      <td>H</td>\n",
       "      <td>F</td>\n",
       "    </tr>\n",
       "    <tr>\n",
       "      <th>freq</th>\n",
       "      <td>18</td>\n",
       "      <td>97</td>\n",
       "      <td>110</td>\n",
       "      <td>53</td>\n",
       "    </tr>\n",
       "  </tbody>\n",
       "</table>\n",
       "</div>"
      ],
      "text/plain": [
       "       AREA NAME  Status Desc Vict Sex Vict Descent\n",
       "count        110          110      110          110\n",
       "unique        19            3        1            8\n",
       "top       Newton  Invest Cont        H            F\n",
       "freq          18           97      110           53"
      ]
     },
     "execution_count": 62,
     "metadata": {},
     "output_type": "execute_result"
    }
   ],
   "source": [
    "df_raw[df_raw['Vict Sex'] == 'H'][['AREA NAME', 'Status Desc', 'Vict Sex', 'Vict Descent']].describe(include='object')"
   ]
  },
  {
   "cell_type": "code",
   "execution_count": 63,
   "metadata": {},
   "outputs": [
    {
     "name": "stdout",
     "output_type": "stream",
     "text": [
      "<class 'pandas.core.series.Series'>\n",
      "Index: 966822 entries, 0 to 966950\n",
      "Series name: Cross Street\n",
      "Non-Null Count   Dtype \n",
      "--------------   ----- \n",
      "150209 non-null  object\n",
      "dtypes: object(1)\n",
      "memory usage: 14.8+ MB\n"
     ]
    }
   ],
   "source": [
    "df_raw['Cross Street'].info() #We saw that this column have near 90% of the records in null"
   ]
  },
  {
   "cell_type": "code",
   "execution_count": 64,
   "metadata": {},
   "outputs": [
    {
     "data": {
      "text/plain": [
       "Index(['DR_NO', 'Date Rptd', 'DATE OCC', 'TIME OCC', 'AREA', 'AREA NAME',\n",
       "       'Rpt Dist No', 'Part 1-2', 'Crm Cd', 'Crm Cd Desc', 'Mocodes',\n",
       "       'Vict Age', 'Vict Sex', 'Vict Descent', 'Premis Cd', 'Premis Desc',\n",
       "       'Weapon Used Cd', 'Weapon Desc', 'Status', 'Status Desc', 'Crm Cd 1',\n",
       "       'Crm Cd 2', 'Crm Cd 3', 'Crm Cd 4', 'LOCATION', 'LAT', 'LON'],\n",
       "      dtype='object')"
      ]
     },
     "execution_count": 64,
     "metadata": {},
     "output_type": "execute_result"
    }
   ],
   "source": [
    "df_raw.drop(columns=['Cross Street'], inplace=True)\n",
    "df_raw.keys()"
   ]
  },
  {
   "cell_type": "code",
   "execution_count": 65,
   "metadata": {},
   "outputs": [
    {
     "data": {
      "text/plain": [
       "0                                  None\n",
       "1                        1822 1402 0344\n",
       "2                             0344 1251\n",
       "3                             0325 1501\n",
       "4                   1822 1501 0930 2004\n",
       "                      ...              \n",
       "966946    2047 0400 0429 0444 1202 1822\n",
       "966947                             None\n",
       "966948                   0329 0400 0416\n",
       "966949                             1501\n",
       "966950    1822 0334 0416 0445 0449 1202\n",
       "Name: Mocodes, Length: 966822, dtype: object"
      ]
     },
     "execution_count": 65,
     "metadata": {},
     "output_type": "execute_result"
    }
   ],
   "source": [
    "df_raw['Mocodes']"
   ]
  },
  {
   "cell_type": "code",
   "execution_count": 89,
   "metadata": {},
   "outputs": [],
   "source": [
    "df_raw.to_csv('../Data/clean_data.csv', index=False)"
   ]
  },
  {
   "cell_type": "markdown",
   "metadata": {},
   "source": [
    "### <center color='red'>Start Analisis</center>"
   ]
  },
  {
   "cell_type": "code",
   "execution_count": 66,
   "metadata": {},
   "outputs": [
    {
     "data": {
      "text/plain": [
       "Vict Sex\n",
       "M    392358\n",
       "F    349309\n",
       "X     91338\n",
       "H       110\n",
       "-         1\n",
       "Name: count, dtype: int64"
      ]
     },
     "execution_count": 66,
     "metadata": {},
     "output_type": "execute_result"
    }
   ],
   "source": [
    "df_raw['Vict Sex'].value_counts() #We see the count of each category in the Vict Sex Column"
   ]
  },
  {
   "cell_type": "code",
   "execution_count": 67,
   "metadata": {},
   "outputs": [
    {
     "data": {
      "text/plain": [
       "Vict Descent\n",
       "H    290134\n",
       "W    194405\n",
       "B    133200\n",
       "X    100048\n",
       "O     75767\n",
       "A     20885\n",
       "K      5484\n",
       "F      4383\n",
       "C      4089\n",
       "J      1430\n",
       "V      1079\n",
       "I       943\n",
       "Z       508\n",
       "P       266\n",
       "U       206\n",
       "D        84\n",
       "G        70\n",
       "L        69\n",
       "S        54\n",
       "-         2\n",
       "Name: count, dtype: int64"
      ]
     },
     "execution_count": 67,
     "metadata": {},
     "output_type": "execute_result"
    }
   ],
   "source": [
    "df_raw['Vict Descent'].value_counts() #We see the count of each category in the Vict Descent Column"
   ]
  },
  {
   "cell_type": "code",
   "execution_count": 68,
   "metadata": {},
   "outputs": [],
   "source": [
    "women_victims = df_raw[df_raw['Vict Sex'] == 'F']"
   ]
  },
  {
   "cell_type": "code",
   "execution_count": 69,
   "metadata": {},
   "outputs": [],
   "source": [
    "men_victims = df_raw[df_raw['Vict Sex']=='M']"
   ]
  },
  {
   "cell_type": "code",
   "execution_count": 70,
   "metadata": {},
   "outputs": [
    {
     "data": {
      "text/html": [
       "<div>\n",
       "<style scoped>\n",
       "    .dataframe tbody tr th:only-of-type {\n",
       "        vertical-align: middle;\n",
       "    }\n",
       "\n",
       "    .dataframe tbody tr th {\n",
       "        vertical-align: top;\n",
       "    }\n",
       "\n",
       "    .dataframe thead th {\n",
       "        text-align: right;\n",
       "    }\n",
       "</style>\n",
       "<table border=\"1\" class=\"dataframe\">\n",
       "  <thead>\n",
       "    <tr style=\"text-align: right;\">\n",
       "      <th></th>\n",
       "      <th>Date Rptd</th>\n",
       "      <th>DATE OCC</th>\n",
       "      <th>AREA NAME</th>\n",
       "      <th>Crm Cd Desc</th>\n",
       "      <th>Mocodes</th>\n",
       "      <th>Vict Sex</th>\n",
       "      <th>Vict Descent</th>\n",
       "      <th>Premis Desc</th>\n",
       "      <th>Weapon Desc</th>\n",
       "      <th>Status</th>\n",
       "      <th>Status Desc</th>\n",
       "      <th>LOCATION</th>\n",
       "    </tr>\n",
       "  </thead>\n",
       "  <tbody>\n",
       "    <tr>\n",
       "      <th>count</th>\n",
       "      <td>349309</td>\n",
       "      <td>349309</td>\n",
       "      <td>349309</td>\n",
       "      <td>349309</td>\n",
       "      <td>346142</td>\n",
       "      <td>349309</td>\n",
       "      <td>349304</td>\n",
       "      <td>349258</td>\n",
       "      <td>148687</td>\n",
       "      <td>349309</td>\n",
       "      <td>349309</td>\n",
       "      <td>349309</td>\n",
       "    </tr>\n",
       "    <tr>\n",
       "      <th>unique</th>\n",
       "      <td>1679</td>\n",
       "      <td>1679</td>\n",
       "      <td>21</td>\n",
       "      <td>132</td>\n",
       "      <td>145744</td>\n",
       "      <td>1</td>\n",
       "      <td>19</td>\n",
       "      <td>294</td>\n",
       "      <td>76</td>\n",
       "      <td>6</td>\n",
       "      <td>6</td>\n",
       "      <td>49510</td>\n",
       "    </tr>\n",
       "    <tr>\n",
       "      <th>top</th>\n",
       "      <td>12/02/2022 12:00:00 AM</td>\n",
       "      <td>12/02/2022 12:00:00 AM</td>\n",
       "      <td>77th Street</td>\n",
       "      <td>INTIMATE PARTNER - SIMPLE ASSAULT</td>\n",
       "      <td>0344</td>\n",
       "      <td>F</td>\n",
       "      <td>H</td>\n",
       "      <td>SINGLE FAMILY DWELLING</td>\n",
       "      <td>STRONG-ARM (HANDS, FIST, FEET OR BODILY FORCE)</td>\n",
       "      <td>IC</td>\n",
       "      <td>Invest Cont</td>\n",
       "      <td>800 N  ALAMEDA                      ST</td>\n",
       "    </tr>\n",
       "    <tr>\n",
       "      <th>freq</th>\n",
       "      <td>477</td>\n",
       "      <td>640</td>\n",
       "      <td>26415</td>\n",
       "      <td>35477</td>\n",
       "      <td>14668</td>\n",
       "      <td>349309</td>\n",
       "      <td>145747</td>\n",
       "      <td>91503</td>\n",
       "      <td>99123</td>\n",
       "      <td>255602</td>\n",
       "      <td>255602</td>\n",
       "      <td>495</td>\n",
       "    </tr>\n",
       "  </tbody>\n",
       "</table>\n",
       "</div>"
      ],
      "text/plain": [
       "                     Date Rptd                DATE OCC    AREA NAME  \\\n",
       "count                   349309                  349309       349309   \n",
       "unique                    1679                    1679           21   \n",
       "top     12/02/2022 12:00:00 AM  12/02/2022 12:00:00 AM  77th Street   \n",
       "freq                       477                     640        26415   \n",
       "\n",
       "                              Crm Cd Desc Mocodes Vict Sex Vict Descent  \\\n",
       "count                              349309  346142   349309       349304   \n",
       "unique                                132  145744        1           19   \n",
       "top     INTIMATE PARTNER - SIMPLE ASSAULT    0344        F            H   \n",
       "freq                                35477   14668   349309       145747   \n",
       "\n",
       "                   Premis Desc  \\\n",
       "count                   349258   \n",
       "unique                     294   \n",
       "top     SINGLE FAMILY DWELLING   \n",
       "freq                     91503   \n",
       "\n",
       "                                           Weapon Desc  Status  Status Desc  \\\n",
       "count                                           148687  349309       349309   \n",
       "unique                                              76       6            6   \n",
       "top     STRONG-ARM (HANDS, FIST, FEET OR BODILY FORCE)      IC  Invest Cont   \n",
       "freq                                             99123  255602       255602   \n",
       "\n",
       "                                      LOCATION  \n",
       "count                                   349309  \n",
       "unique                                   49510  \n",
       "top     800 N  ALAMEDA                      ST  \n",
       "freq                                       495  "
      ]
     },
     "execution_count": 70,
     "metadata": {},
     "output_type": "execute_result"
    }
   ],
   "source": [
    "women_victims.describe(include='object')"
   ]
  },
  {
   "cell_type": "code",
   "execution_count": 71,
   "metadata": {},
   "outputs": [
    {
     "data": {
      "text/html": [
       "<div>\n",
       "<style scoped>\n",
       "    .dataframe tbody tr th:only-of-type {\n",
       "        vertical-align: middle;\n",
       "    }\n",
       "\n",
       "    .dataframe tbody tr th {\n",
       "        vertical-align: top;\n",
       "    }\n",
       "\n",
       "    .dataframe thead th {\n",
       "        text-align: right;\n",
       "    }\n",
       "</style>\n",
       "<table border=\"1\" class=\"dataframe\">\n",
       "  <thead>\n",
       "    <tr style=\"text-align: right;\">\n",
       "      <th></th>\n",
       "      <th>Date Rptd</th>\n",
       "      <th>DATE OCC</th>\n",
       "      <th>AREA NAME</th>\n",
       "      <th>Crm Cd Desc</th>\n",
       "      <th>Mocodes</th>\n",
       "      <th>Vict Sex</th>\n",
       "      <th>Vict Descent</th>\n",
       "      <th>Premis Desc</th>\n",
       "      <th>Weapon Desc</th>\n",
       "      <th>Status</th>\n",
       "      <th>Status Desc</th>\n",
       "      <th>LOCATION</th>\n",
       "    </tr>\n",
       "  </thead>\n",
       "  <tbody>\n",
       "    <tr>\n",
       "      <th>count</th>\n",
       "      <td>392358</td>\n",
       "      <td>392358</td>\n",
       "      <td>392358</td>\n",
       "      <td>392358</td>\n",
       "      <td>389373</td>\n",
       "      <td>392358</td>\n",
       "      <td>392351</td>\n",
       "      <td>392095</td>\n",
       "      <td>157526</td>\n",
       "      <td>392358</td>\n",
       "      <td>392358</td>\n",
       "      <td>392358</td>\n",
       "    </tr>\n",
       "    <tr>\n",
       "      <th>unique</th>\n",
       "      <td>1679</td>\n",
       "      <td>1679</td>\n",
       "      <td>21</td>\n",
       "      <td>135</td>\n",
       "      <td>158155</td>\n",
       "      <td>1</td>\n",
       "      <td>20</td>\n",
       "      <td>303</td>\n",
       "      <td>78</td>\n",
       "      <td>6</td>\n",
       "      <td>6</td>\n",
       "      <td>53097</td>\n",
       "    </tr>\n",
       "    <tr>\n",
       "      <th>top</th>\n",
       "      <td>06/21/2022 12:00:00 AM</td>\n",
       "      <td>05/30/2020 12:00:00 AM</td>\n",
       "      <td>Central</td>\n",
       "      <td>BATTERY - SIMPLE ASSAULT</td>\n",
       "      <td>0344</td>\n",
       "      <td>M</td>\n",
       "      <td>H</td>\n",
       "      <td>STREET</td>\n",
       "      <td>STRONG-ARM (HANDS, FIST, FEET OR BODILY FORCE)</td>\n",
       "      <td>IC</td>\n",
       "      <td>Invest Cont</td>\n",
       "      <td>800 N  ALAMEDA                      ST</td>\n",
       "    </tr>\n",
       "    <tr>\n",
       "      <th>freq</th>\n",
       "      <td>364</td>\n",
       "      <td>452</td>\n",
       "      <td>32332</td>\n",
       "      <td>39132</td>\n",
       "      <td>20811</td>\n",
       "      <td>392358</td>\n",
       "      <td>144170</td>\n",
       "      <td>81041</td>\n",
       "      <td>68918</td>\n",
       "      <td>313500</td>\n",
       "      <td>313500</td>\n",
       "      <td>1067</td>\n",
       "    </tr>\n",
       "  </tbody>\n",
       "</table>\n",
       "</div>"
      ],
      "text/plain": [
       "                     Date Rptd                DATE OCC AREA NAME  \\\n",
       "count                   392358                  392358    392358   \n",
       "unique                    1679                    1679        21   \n",
       "top     06/21/2022 12:00:00 AM  05/30/2020 12:00:00 AM   Central   \n",
       "freq                       364                     452     32332   \n",
       "\n",
       "                     Crm Cd Desc Mocodes Vict Sex Vict Descent Premis Desc  \\\n",
       "count                     392358  389373   392358       392351      392095   \n",
       "unique                       135  158155        1           20         303   \n",
       "top     BATTERY - SIMPLE ASSAULT    0344        M            H      STREET   \n",
       "freq                       39132   20811   392358       144170       81041   \n",
       "\n",
       "                                           Weapon Desc  Status  Status Desc  \\\n",
       "count                                           157526  392358       392358   \n",
       "unique                                              78       6            6   \n",
       "top     STRONG-ARM (HANDS, FIST, FEET OR BODILY FORCE)      IC  Invest Cont   \n",
       "freq                                             68918  313500       313500   \n",
       "\n",
       "                                      LOCATION  \n",
       "count                                   392358  \n",
       "unique                                   53097  \n",
       "top     800 N  ALAMEDA                      ST  \n",
       "freq                                      1067  "
      ]
     },
     "execution_count": 71,
     "metadata": {},
     "output_type": "execute_result"
    }
   ],
   "source": [
    "men_victims.describe(include='object')"
   ]
  },
  {
   "cell_type": "code",
   "execution_count": 72,
   "metadata": {},
   "outputs": [
    {
     "data": {
      "text/plain": [
       "(349309, 27)"
      ]
     },
     "execution_count": 72,
     "metadata": {},
     "output_type": "execute_result"
    }
   ],
   "source": [
    "women_victims.shape"
   ]
  },
  {
   "cell_type": "code",
   "execution_count": 73,
   "metadata": {},
   "outputs": [
    {
     "data": {
      "text/plain": [
       "(392358, 27)"
      ]
     },
     "execution_count": 73,
     "metadata": {},
     "output_type": "execute_result"
    }
   ],
   "source": [
    "men_victims.shape"
   ]
  },
  {
   "cell_type": "code",
   "execution_count": 90,
   "metadata": {},
   "outputs": [
    {
     "data": {
      "text/plain": [
       "Weapon Desc\n",
       "STRONG-ARM (HANDS, FIST, FEET OR BODILY FORCE)    99123\n",
       "UNKNOWN WEAPON/OTHER WEAPON                       13397\n",
       "VERBAL THREAT                                     11473\n",
       "HAND GUN                                           4644\n",
       "KNIFE WITH BLADE 6INCHES OR LESS                   1714\n",
       "                                                  ...  \n",
       "RELIC FIREARM                                         2\n",
       "ANTIQUE FIREARM                                       2\n",
       "MAC-11 SEMIAUTOMATIC ASSAULT WEAPON                   1\n",
       "UZI SEMIAUTOMATIC ASSAULT RIFLE                       1\n",
       "MARTIAL ARTS WEAPONS                                  1\n",
       "Name: count, Length: 76, dtype: int64"
      ]
     },
     "execution_count": 90,
     "metadata": {},
     "output_type": "execute_result"
    }
   ],
   "source": [
    "# Top 5 Weapons used in crimens at the women\n",
    "sizes = women_victims[~women_victims['Weapon Desc'].isna()]['Weapon Desc'].value_counts()[:6]\n",
    "women_victims[~women_victims['Weapon Desc'].isna()]['Weapon Desc'].value_counts()\n"
   ]
  },
  {
   "cell_type": "code",
   "execution_count": 96,
   "metadata": {},
   "outputs": [
    {
     "data": {
      "text/plain": [
       "Weapon Desc\n",
       "STRONG-ARM (HANDS, FIST, FEET OR BODILY FORCE)    99123\n",
       "UNKNOWN WEAPON/OTHER WEAPON                       13397\n",
       "VERBAL THREAT                                     11473\n",
       "HAND GUN                                           4644\n",
       "KNIFE WITH BLADE 6INCHES OR LESS                   1714\n",
       "UNKNOWN FIREARM                                    1601\n",
       "Name: count, dtype: int64"
      ]
     },
     "execution_count": 96,
     "metadata": {},
     "output_type": "execute_result"
    }
   ],
   "source": [
    "sizes"
   ]
  },
  {
   "cell_type": "code",
   "execution_count": 97,
   "metadata": {},
   "outputs": [
    {
     "data": {
      "image/png": "[encoded data removed]",
      "text/plain": [
       "<Figure size 800x800 with 1 Axes>"
      ]
     },
     "metadata": {},
     "output_type": "display_data"
    }
   ],
   "source": [
    "plt.figure(figsize=(8, 8))\n",
    "plt.pie(sizes, labels=sizes.keys(), autopct='%1.1f%%', startangle=140, colors=plt.cm.Paired.colors)\n",
    "plt.title('Top 5 Weapons Used in Crimes Against Women')\n",
    "plt.show()"
   ]
  },
  {
   "cell_type": "code",
   "execution_count": 102,
   "metadata": {},
   "outputs": [
    {
     "data": {
      "image/png": "[encoded data removed]",
      "text/plain": [
       "<Figure size 800x800 with 1 Axes>"
      ]
     },
     "metadata": {},
     "output_type": "display_data"
    }
   ],
   "source": [
    "# Top 5 Weapons used in crimens at the men\n",
    "sizes = men_victims[~men_victims['Weapon Desc'].isna()]['Weapon Desc'].value_counts()[:6]\n",
    "men_victims[~men_victims['Weapon Desc'].isna()]['Weapon Desc'].value_counts()\n",
    " \n",
    "plt.figure(figsize=(8, 8))\n",
    "plt.pie(sizes, labels=sizes.keys(), autopct='%1.1f%%', startangle=140, colors=plt.cm.Paired.colors)\n",
    "plt.title('Top 5 Weapons Used in Crimes Against Women')\n",
    "plt.show()"
   ]
  },
  {
   "cell_type": "code",
   "execution_count": 81,
   "metadata": {},
   "outputs": [
    {
     "data": {
      "text/html": [
       "<div>\n",
       "<style scoped>\n",
       "    .dataframe tbody tr th:only-of-type {\n",
       "        vertical-align: middle;\n",
       "    }\n",
       "\n",
       "    .dataframe tbody tr th {\n",
       "        vertical-align: top;\n",
       "    }\n",
       "\n",
       "    .dataframe thead th {\n",
       "        text-align: right;\n",
       "    }\n",
       "</style>\n",
       "<table border=\"1\" class=\"dataframe\">\n",
       "  <thead>\n",
       "    <tr style=\"text-align: right;\">\n",
       "      <th></th>\n",
       "      <th>AREA NAME</th>\n",
       "      <th>Crm Cd Desc</th>\n",
       "      <th>Weapon Desc</th>\n",
       "    </tr>\n",
       "  </thead>\n",
       "  <tbody>\n",
       "    <tr>\n",
       "      <th>27</th>\n",
       "      <td>Northeast</td>\n",
       "      <td>CRIMINAL THREATS - NO WEAPON DISPLAYED</td>\n",
       "      <td>UNKNOWN WEAPON/OTHER WEAPON</td>\n",
       "    </tr>\n",
       "    <tr>\n",
       "      <th>149</th>\n",
       "      <td>West Valley</td>\n",
       "      <td>BRANDISH WEAPON</td>\n",
       "      <td>UNKNOWN WEAPON/OTHER WEAPON</td>\n",
       "    </tr>\n",
       "    <tr>\n",
       "      <th>302</th>\n",
       "      <td>Hollywood</td>\n",
       "      <td>BURGLARY</td>\n",
       "      <td>UNKNOWN WEAPON/OTHER WEAPON</td>\n",
       "    </tr>\n",
       "    <tr>\n",
       "      <th>471</th>\n",
       "      <td>Foothill</td>\n",
       "      <td>ORAL COPULATION</td>\n",
       "      <td>UNKNOWN WEAPON/OTHER WEAPON</td>\n",
       "    </tr>\n",
       "    <tr>\n",
       "      <th>703</th>\n",
       "      <td>Central</td>\n",
       "      <td>INTIMATE PARTNER - AGGRAVATED ASSAULT</td>\n",
       "      <td>UNKNOWN WEAPON/OTHER WEAPON</td>\n",
       "    </tr>\n",
       "    <tr>\n",
       "      <th>...</th>\n",
       "      <td>...</td>\n",
       "      <td>...</td>\n",
       "      <td>...</td>\n",
       "    </tr>\n",
       "    <tr>\n",
       "      <th>966595</th>\n",
       "      <td>77th Street</td>\n",
       "      <td>BURGLARY</td>\n",
       "      <td>UNKNOWN WEAPON/OTHER WEAPON</td>\n",
       "    </tr>\n",
       "    <tr>\n",
       "      <th>966599</th>\n",
       "      <td>Pacific</td>\n",
       "      <td>THEFT-GRAND ($950.01 &amp; OVER)EXCPT,GUNS,FOWL,LI...</td>\n",
       "      <td>UNKNOWN WEAPON/OTHER WEAPON</td>\n",
       "    </tr>\n",
       "    <tr>\n",
       "      <th>966749</th>\n",
       "      <td>West LA</td>\n",
       "      <td>BURGLARY</td>\n",
       "      <td>UNKNOWN WEAPON/OTHER WEAPON</td>\n",
       "    </tr>\n",
       "    <tr>\n",
       "      <th>966845</th>\n",
       "      <td>Southeast</td>\n",
       "      <td>BRANDISH WEAPON</td>\n",
       "      <td>UNKNOWN WEAPON/OTHER WEAPON</td>\n",
       "    </tr>\n",
       "    <tr>\n",
       "      <th>966898</th>\n",
       "      <td>Newton</td>\n",
       "      <td>ROBBERY</td>\n",
       "      <td>UNKNOWN WEAPON/OTHER WEAPON</td>\n",
       "    </tr>\n",
       "  </tbody>\n",
       "</table>\n",
       "<p>13397 rows × 3 columns</p>\n",
       "</div>"
      ],
      "text/plain": [
       "          AREA NAME                                        Crm Cd Desc  \\\n",
       "27        Northeast             CRIMINAL THREATS - NO WEAPON DISPLAYED   \n",
       "149     West Valley                                    BRANDISH WEAPON   \n",
       "302       Hollywood                                           BURGLARY   \n",
       "471        Foothill                                    ORAL COPULATION   \n",
       "703         Central              INTIMATE PARTNER - AGGRAVATED ASSAULT   \n",
       "...             ...                                                ...   \n",
       "966595  77th Street                                           BURGLARY   \n",
       "966599      Pacific  THEFT-GRAND ($950.01 & OVER)EXCPT,GUNS,FOWL,LI...   \n",
       "966749      West LA                                           BURGLARY   \n",
       "966845    Southeast                                    BRANDISH WEAPON   \n",
       "966898       Newton                                            ROBBERY   \n",
       "\n",
       "                        Weapon Desc  \n",
       "27      UNKNOWN WEAPON/OTHER WEAPON  \n",
       "149     UNKNOWN WEAPON/OTHER WEAPON  \n",
       "302     UNKNOWN WEAPON/OTHER WEAPON  \n",
       "471     UNKNOWN WEAPON/OTHER WEAPON  \n",
       "703     UNKNOWN WEAPON/OTHER WEAPON  \n",
       "...                             ...  \n",
       "966595  UNKNOWN WEAPON/OTHER WEAPON  \n",
       "966599  UNKNOWN WEAPON/OTHER WEAPON  \n",
       "966749  UNKNOWN WEAPON/OTHER WEAPON  \n",
       "966845  UNKNOWN WEAPON/OTHER WEAPON  \n",
       "966898  UNKNOWN WEAPON/OTHER WEAPON  \n",
       "\n",
       "[13397 rows x 3 columns]"
      ]
     },
     "execution_count": 81,
     "metadata": {},
     "output_type": "execute_result"
    }
   ],
   "source": [
    "#Women Victims with UNKNOWN WEAPON/OHTR ATTACK\n",
    "women_victims[women_victims['Weapon Desc']=='UNKNOWN WEAPON/OTHER WEAPON'][['AREA NAME', 'Crm Cd Desc', 'Weapon Desc']]"
   ]
  },
  {
   "cell_type": "code",
   "execution_count": 83,
   "metadata": {},
   "outputs": [
    {
     "data": {
      "text/html": [
       "<div>\n",
       "<style scoped>\n",
       "    .dataframe tbody tr th:only-of-type {\n",
       "        vertical-align: middle;\n",
       "    }\n",
       "\n",
       "    .dataframe tbody tr th {\n",
       "        vertical-align: top;\n",
       "    }\n",
       "\n",
       "    .dataframe thead th {\n",
       "        text-align: right;\n",
       "    }\n",
       "</style>\n",
       "<table border=\"1\" class=\"dataframe\">\n",
       "  <thead>\n",
       "    <tr style=\"text-align: right;\">\n",
       "      <th></th>\n",
       "      <th>AREA NAME</th>\n",
       "      <th>Crm Cd Desc</th>\n",
       "      <th>Weapon Desc</th>\n",
       "    </tr>\n",
       "  </thead>\n",
       "  <tbody>\n",
       "    <tr>\n",
       "      <th>count</th>\n",
       "      <td>13397</td>\n",
       "      <td>13397</td>\n",
       "      <td>13397</td>\n",
       "    </tr>\n",
       "    <tr>\n",
       "      <th>unique</th>\n",
       "      <td>21</td>\n",
       "      <td>81</td>\n",
       "      <td>1</td>\n",
       "    </tr>\n",
       "    <tr>\n",
       "      <th>top</th>\n",
       "      <td>Pacific</td>\n",
       "      <td>BATTERY - SIMPLE ASSAULT</td>\n",
       "      <td>UNKNOWN WEAPON/OTHER WEAPON</td>\n",
       "    </tr>\n",
       "    <tr>\n",
       "      <th>freq</th>\n",
       "      <td>1580</td>\n",
       "      <td>2760</td>\n",
       "      <td>13397</td>\n",
       "    </tr>\n",
       "  </tbody>\n",
       "</table>\n",
       "</div>"
      ],
      "text/plain": [
       "       AREA NAME               Crm Cd Desc                  Weapon Desc\n",
       "count      13397                     13397                        13397\n",
       "unique        21                        81                            1\n",
       "top      Pacific  BATTERY - SIMPLE ASSAULT  UNKNOWN WEAPON/OTHER WEAPON\n",
       "freq        1580                      2760                        13397"
      ]
     },
     "execution_count": 83,
     "metadata": {},
     "output_type": "execute_result"
    }
   ],
   "source": [
    "#Top Area Tipe of Attack with UNKNOW WEAPON at Women\n",
    "women_victims[women_victims['Weapon Desc']=='UNKNOWN WEAPON/OTHER WEAPON'][['AREA NAME', 'Crm Cd Desc', 'Weapon Desc']].describe(include='object')"
   ]
  },
  {
   "cell_type": "code",
   "execution_count": 87,
   "metadata": {},
   "outputs": [
    {
     "data": {
      "text/html": [
       "<div>\n",
       "<style scoped>\n",
       "    .dataframe tbody tr th:only-of-type {\n",
       "        vertical-align: middle;\n",
       "    }\n",
       "\n",
       "    .dataframe tbody tr th {\n",
       "        vertical-align: top;\n",
       "    }\n",
       "\n",
       "    .dataframe thead th {\n",
       "        text-align: right;\n",
       "    }\n",
       "</style>\n",
       "<table border=\"1\" class=\"dataframe\">\n",
       "  <thead>\n",
       "    <tr style=\"text-align: right;\">\n",
       "      <th></th>\n",
       "      <th>Vict Age</th>\n",
       "    </tr>\n",
       "  </thead>\n",
       "  <tbody>\n",
       "    <tr>\n",
       "      <th>count</th>\n",
       "      <td>526.000000</td>\n",
       "    </tr>\n",
       "    <tr>\n",
       "      <th>mean</th>\n",
       "      <td>26.452471</td>\n",
       "    </tr>\n",
       "    <tr>\n",
       "      <th>std</th>\n",
       "      <td>15.627833</td>\n",
       "    </tr>\n",
       "    <tr>\n",
       "      <th>min</th>\n",
       "      <td>0.000000</td>\n",
       "    </tr>\n",
       "    <tr>\n",
       "      <th>25%</th>\n",
       "      <td>14.000000</td>\n",
       "    </tr>\n",
       "    <tr>\n",
       "      <th>50%</th>\n",
       "      <td>24.000000</td>\n",
       "    </tr>\n",
       "    <tr>\n",
       "      <th>75%</th>\n",
       "      <td>35.000000</td>\n",
       "    </tr>\n",
       "    <tr>\n",
       "      <th>max</th>\n",
       "      <td>82.000000</td>\n",
       "    </tr>\n",
       "  </tbody>\n",
       "</table>\n",
       "</div>"
      ],
      "text/plain": [
       "         Vict Age\n",
       "count  526.000000\n",
       "mean    26.452471\n",
       "std     15.627833\n",
       "min      0.000000\n",
       "25%     14.000000\n",
       "50%     24.000000\n",
       "75%     35.000000\n",
       "max     82.000000"
      ]
     },
     "execution_count": 87,
     "metadata": {},
     "output_type": "execute_result"
    }
   ],
   "source": [
    "women_victims[women_victims['Crm Cd Desc']=='ORAL COPULATION'][['AREA NAME', 'Vict Age', 'Vict Descent', 'Status Desc']].describe()"
   ]
  },
  {
   "cell_type": "markdown",
   "metadata": {},
   "source": [
    "The average age of women who were ORAL COPULATION is 26 years old"
   ]
  },
  {
   "cell_type": "code",
   "execution_count": 98,
   "metadata": {},
   "outputs": [
    {
     "data": {
      "image/png": "[encoded data removed]",
      "text/plain": [
       "<Figure size 1000x600 with 1 Axes>"
      ]
     },
     "metadata": {},
     "output_type": "display_data"
    }
   ],
   "source": [
    "victim_ages = women_victims[women_victims['Weapon Desc']=='UNKNOWN WEAPON/OTHER WEAPON']['Vict Age']\n",
    "plt.figure(figsize=(10, 6))\n",
    "plt.hist(victim_ages, bins=range(0, 90, 5), color='skyblue', edgecolor='black')\n",
    "\n",
    "plt.title('Distribution of Victim Ages for ORAL COPULATION Cases')\n",
    "plt.xlabel('Victim Age')\n",
    "plt.ylabel('Number of Victims')\n",
    "plt.xticks(range(0, 90, 5))\n",
    "plt.grid(axis='y', linestyle='--', alpha=0.7)\n",
    "\n",
    "plt.show()"
   ]
  },
  {
   "cell_type": "code",
   "execution_count": 99,
   "metadata": {},
   "outputs": [
    {
     "data": {
      "image/png": "[encoded data removed]",
      "text/plain": [
       "<Figure size 1000x600 with 1 Axes>"
      ]
     },
     "metadata": {},
     "output_type": "display_data"
    }
   ],
   "source": [
    "victim_ages_men = men_victims[men_victims['Crm Cd Desc']=='ORAL COPULATION']['Vict Age']\n",
    "plt.figure(figsize=(10, 6))\n",
    "plt.hist(victim_ages_men, bins=range(0, 90, 5), color='lightcoral', edgecolor='black')\n",
    "\n",
    "plt.title('Distribution of Victim Ages for ORAL COPULATION Cases (Men)')\n",
    "plt.xlabel('Victim Age')\n",
    "plt.ylabel('Number of Victims')\n",
    "plt.xticks(range(0, 90, 5))\n",
    "plt.grid(axis='y', linestyle='--', alpha=0.7)\n",
    "\n",
    "plt.show()\n"
   ]
  },
  {
   "cell_type": "code",
   "execution_count": 104,
   "metadata": {},
   "outputs": [
    {
     "data": {
      "image/png": "[encoded data removed]",
      "text/plain": [
       "<Figure size 1000x600 with 1 Axes>"
      ]
     },
     "metadata": {},
     "output_type": "display_data"
    }
   ],
   "source": [
    "# Contar las armas más usadas en los crímenes\n",
    "weapon_usage = df_raw['Weapon Desc'].value_counts().head(10)\n",
    "\n",
    "# Graficar las armas más usadas\n",
    "plt.figure(figsize=(10, 6))\n",
    "weapon_usage.plot(kind='bar', color='salmon')\n",
    "plt.title('Top 10 Armas Más Usadas en los Crímenes')\n",
    "plt.xlabel('Arma')\n",
    "plt.ylabel('Cantidad de Crímenes')\n",
    "plt.xticks(rotation=45, ha='right')\n",
    "plt.tight_layout()\n",
    "plt.show()"
   ]
  },
  {
   "cell_type": "code",
   "execution_count": 105,
   "metadata": {},
   "outputs": [
    {
     "data": {
      "image/png": "[encoded data removed]",
      "text/plain": [
       "<Figure size 1000x600 with 1 Axes>"
      ]
     },
     "metadata": {},
     "output_type": "display_data"
    }
   ],
   "source": [
    "# Contar el número de crímenes por tipo\n",
    "crime_types = df_raw['Crm Cd Desc'].value_counts().head(10)\n",
    "\n",
    "# Graficar la distribución de los crímenes por tipo\n",
    "plt.figure(figsize=(10, 6))\n",
    "crime_types.plot(kind='barh', color='orange')\n",
    "plt.title('Top 10 Tipos de Crímenes')\n",
    "plt.xlabel('Cantidad de Crímenes')\n",
    "plt.ylabel('Tipo de Crimen')\n",
    "plt.tight_layout()\n",
    "plt.show()"
   ]
  }
 ],
 "metadata": {
  "kernelspec": {
   "display_name": "criminal_env",
   "language": "python",
   "name": "python3"
  },
  "language_info": {
   "codemirror_mode": {
    "name": "ipython",
    "version": 3
   },
   "file_extension": ".py",
   "mimetype": "text/x-python",
   "name": "python",
   "nbconvert_exporter": "python",
   "pygments_lexer": "ipython3",
   "version": "3.12.0"
  }
 },
 "nbformat": 4,
 "nbformat_minor": 2
}
