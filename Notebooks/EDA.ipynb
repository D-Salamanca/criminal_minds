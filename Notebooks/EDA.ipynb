{
 "cells": [
  {
   "cell_type": "markdown",
   "metadata": {},
   "source": [
    "<h1 color='Green'>EDA</h1>"
   ]
  },
  {
   "cell_type": "code",
   "execution_count": 1,
   "metadata": {},
   "outputs": [],
   "source": [
    "#preprocessing stage\n",
    "#own libs\n",
    "import sys \n",
    "sys.path.append('../src')\n",
    "from db_connection import conn\n",
    "#public libs\n",
    "import pandas as pd\n",
    "import matplotlib.pyplot as plt\n"
   ]
  },
  {
   "cell_type": "code",
   "execution_count": 2,
   "metadata": {},
   "outputs": [],
   "source": [
    "#Load the dataset until sql\n",
    "q = 'SELECT * FROM criminal_mind_raw' #Query to load all columns from the raw data table\n",
    "df_raw = pd.read_sql(sql=q, con=conn.engine) #Use pd to load the data in python"
   ]
  },
  {
   "cell_type": "code",
   "execution_count": 3,
   "metadata": {},
   "outputs": [
    {
     "data": {
      "text/html": [
       "<div>\n",
       "<style scoped>\n",
       "    .dataframe tbody tr th:only-of-type {\n",
       "        vertical-align: middle;\n",
       "    }\n",
       "\n",
       "    .dataframe tbody tr th {\n",
       "        vertical-align: top;\n",
       "    }\n",
       "\n",
       "    .dataframe thead th {\n",
       "        text-align: right;\n",
       "    }\n",
       "</style>\n",
       "<table border=\"1\" class=\"dataframe\">\n",
       "  <thead>\n",
       "    <tr style=\"text-align: right;\">\n",
       "      <th></th>\n",
       "      <th>DR_NO</th>\n",
       "      <th>Date Rptd</th>\n",
       "      <th>DATE OCC</th>\n",
       "      <th>TIME OCC</th>\n",
       "      <th>AREA</th>\n",
       "      <th>AREA NAME</th>\n",
       "      <th>Rpt Dist No</th>\n",
       "      <th>Part 1-2</th>\n",
       "      <th>Crm Cd</th>\n",
       "      <th>Crm Cd Desc</th>\n",
       "      <th>...</th>\n",
       "      <th>Status</th>\n",
       "      <th>Status Desc</th>\n",
       "      <th>Crm Cd 1</th>\n",
       "      <th>Crm Cd 2</th>\n",
       "      <th>Crm Cd 3</th>\n",
       "      <th>Crm Cd 4</th>\n",
       "      <th>LOCATION</th>\n",
       "      <th>Cross Street</th>\n",
       "      <th>LAT</th>\n",
       "      <th>LON</th>\n",
       "    </tr>\n",
       "  </thead>\n",
       "  <tbody>\n",
       "    <tr>\n",
       "      <th>0</th>\n",
       "      <td>190326475</td>\n",
       "      <td>03/01/2020 12:00:00 AM</td>\n",
       "      <td>03/01/2020 12:00:00 AM</td>\n",
       "      <td>2130</td>\n",
       "      <td>7</td>\n",
       "      <td>Wilshire</td>\n",
       "      <td>784</td>\n",
       "      <td>1</td>\n",
       "      <td>510</td>\n",
       "      <td>VEHICLE - STOLEN</td>\n",
       "      <td>...</td>\n",
       "      <td>AA</td>\n",
       "      <td>Adult Arrest</td>\n",
       "      <td>510.0</td>\n",
       "      <td>998.0</td>\n",
       "      <td>NaN</td>\n",
       "      <td>NaN</td>\n",
       "      <td>1900 S  LONGWOOD                     AV</td>\n",
       "      <td>None</td>\n",
       "      <td>34.0375</td>\n",
       "      <td>-118.3506</td>\n",
       "    </tr>\n",
       "    <tr>\n",
       "      <th>1</th>\n",
       "      <td>200106753</td>\n",
       "      <td>02/09/2020 12:00:00 AM</td>\n",
       "      <td>02/08/2020 12:00:00 AM</td>\n",
       "      <td>1800</td>\n",
       "      <td>1</td>\n",
       "      <td>Central</td>\n",
       "      <td>182</td>\n",
       "      <td>1</td>\n",
       "      <td>330</td>\n",
       "      <td>BURGLARY FROM VEHICLE</td>\n",
       "      <td>...</td>\n",
       "      <td>IC</td>\n",
       "      <td>Invest Cont</td>\n",
       "      <td>330.0</td>\n",
       "      <td>998.0</td>\n",
       "      <td>NaN</td>\n",
       "      <td>NaN</td>\n",
       "      <td>1000 S  FLOWER                       ST</td>\n",
       "      <td>None</td>\n",
       "      <td>34.0444</td>\n",
       "      <td>-118.2628</td>\n",
       "    </tr>\n",
       "    <tr>\n",
       "      <th>2</th>\n",
       "      <td>200320258</td>\n",
       "      <td>11/11/2020 12:00:00 AM</td>\n",
       "      <td>11/04/2020 12:00:00 AM</td>\n",
       "      <td>1700</td>\n",
       "      <td>3</td>\n",
       "      <td>Southwest</td>\n",
       "      <td>356</td>\n",
       "      <td>1</td>\n",
       "      <td>480</td>\n",
       "      <td>BIKE - STOLEN</td>\n",
       "      <td>...</td>\n",
       "      <td>IC</td>\n",
       "      <td>Invest Cont</td>\n",
       "      <td>480.0</td>\n",
       "      <td>NaN</td>\n",
       "      <td>NaN</td>\n",
       "      <td>NaN</td>\n",
       "      <td>1400 W  37TH                         ST</td>\n",
       "      <td>None</td>\n",
       "      <td>34.0210</td>\n",
       "      <td>-118.3002</td>\n",
       "    </tr>\n",
       "    <tr>\n",
       "      <th>3</th>\n",
       "      <td>200907217</td>\n",
       "      <td>05/10/2023 12:00:00 AM</td>\n",
       "      <td>03/10/2020 12:00:00 AM</td>\n",
       "      <td>2037</td>\n",
       "      <td>9</td>\n",
       "      <td>Van Nuys</td>\n",
       "      <td>964</td>\n",
       "      <td>1</td>\n",
       "      <td>343</td>\n",
       "      <td>SHOPLIFTING-GRAND THEFT ($950.01 &amp; OVER)</td>\n",
       "      <td>...</td>\n",
       "      <td>IC</td>\n",
       "      <td>Invest Cont</td>\n",
       "      <td>343.0</td>\n",
       "      <td>NaN</td>\n",
       "      <td>NaN</td>\n",
       "      <td>NaN</td>\n",
       "      <td>14000    RIVERSIDE                    DR</td>\n",
       "      <td>None</td>\n",
       "      <td>34.1576</td>\n",
       "      <td>-118.4387</td>\n",
       "    </tr>\n",
       "    <tr>\n",
       "      <th>4</th>\n",
       "      <td>220614831</td>\n",
       "      <td>08/18/2022 12:00:00 AM</td>\n",
       "      <td>08/17/2020 12:00:00 AM</td>\n",
       "      <td>1200</td>\n",
       "      <td>6</td>\n",
       "      <td>Hollywood</td>\n",
       "      <td>666</td>\n",
       "      <td>2</td>\n",
       "      <td>354</td>\n",
       "      <td>THEFT OF IDENTITY</td>\n",
       "      <td>...</td>\n",
       "      <td>IC</td>\n",
       "      <td>Invest Cont</td>\n",
       "      <td>354.0</td>\n",
       "      <td>NaN</td>\n",
       "      <td>NaN</td>\n",
       "      <td>NaN</td>\n",
       "      <td>1900    TRANSIENT</td>\n",
       "      <td>None</td>\n",
       "      <td>34.0944</td>\n",
       "      <td>-118.3277</td>\n",
       "    </tr>\n",
       "  </tbody>\n",
       "</table>\n",
       "<p>5 rows × 28 columns</p>\n",
       "</div>"
      ],
      "text/plain": [
       "       DR_NO               Date Rptd                DATE OCC  TIME OCC  AREA  \\\n",
       "0  190326475  03/01/2020 12:00:00 AM  03/01/2020 12:00:00 AM      2130     7   \n",
       "1  200106753  02/09/2020 12:00:00 AM  02/08/2020 12:00:00 AM      1800     1   \n",
       "2  200320258  11/11/2020 12:00:00 AM  11/04/2020 12:00:00 AM      1700     3   \n",
       "3  200907217  05/10/2023 12:00:00 AM  03/10/2020 12:00:00 AM      2037     9   \n",
       "4  220614831  08/18/2022 12:00:00 AM  08/17/2020 12:00:00 AM      1200     6   \n",
       "\n",
       "   AREA NAME  Rpt Dist No  Part 1-2  Crm Cd  \\\n",
       "0   Wilshire          784         1     510   \n",
       "1    Central          182         1     330   \n",
       "2  Southwest          356         1     480   \n",
       "3   Van Nuys          964         1     343   \n",
       "4  Hollywood          666         2     354   \n",
       "\n",
       "                                Crm Cd Desc  ... Status   Status Desc  \\\n",
       "0                          VEHICLE - STOLEN  ...     AA  Adult Arrest   \n",
       "1                     BURGLARY FROM VEHICLE  ...     IC   Invest Cont   \n",
       "2                             BIKE - STOLEN  ...     IC   Invest Cont   \n",
       "3  SHOPLIFTING-GRAND THEFT ($950.01 & OVER)  ...     IC   Invest Cont   \n",
       "4                         THEFT OF IDENTITY  ...     IC   Invest Cont   \n",
       "\n",
       "  Crm Cd 1 Crm Cd 2  Crm Cd 3 Crm Cd 4  \\\n",
       "0    510.0    998.0       NaN      NaN   \n",
       "1    330.0    998.0       NaN      NaN   \n",
       "2    480.0      NaN       NaN      NaN   \n",
       "3    343.0      NaN       NaN      NaN   \n",
       "4    354.0      NaN       NaN      NaN   \n",
       "\n",
       "                                   LOCATION Cross Street      LAT       LON  \n",
       "0   1900 S  LONGWOOD                     AV         None  34.0375 -118.3506  \n",
       "1   1000 S  FLOWER                       ST         None  34.0444 -118.2628  \n",
       "2   1400 W  37TH                         ST         None  34.0210 -118.3002  \n",
       "3  14000    RIVERSIDE                    DR         None  34.1576 -118.4387  \n",
       "4                         1900    TRANSIENT         None  34.0944 -118.3277  \n",
       "\n",
       "[5 rows x 28 columns]"
      ]
     },
     "execution_count": 3,
     "metadata": {},
     "output_type": "execute_result"
    }
   ],
   "source": [
    "df_raw.head(5) #Show the first 5 rows"
   ]
  },
  {
   "cell_type": "code",
   "execution_count": 4,
   "metadata": {},
   "outputs": [
    {
     "data": {
      "text/plain": [
       "(982638, 28)"
      ]
     },
     "execution_count": 4,
     "metadata": {},
     "output_type": "execute_result"
    }
   ],
   "source": [
    "df_raw.shape #Show the Number of records"
   ]
  },
  {
   "cell_type": "code",
   "execution_count": 5,
   "metadata": {},
   "outputs": [
    {
     "name": "stdout",
     "output_type": "stream",
     "text": [
      "['DR_NO', 'Date Rptd', 'DATE OCC', 'TIME OCC', 'AREA', 'AREA NAME', 'Rpt Dist No', 'Part 1-2', 'Crm Cd', 'Crm Cd Desc', 'Mocodes', 'Vict Age', 'Vict Sex', 'Vict Descent', 'Premis Cd', 'Premis Desc', 'Weapon Used Cd', 'Weapon Desc', 'Status', 'Status Desc', 'Crm Cd 1', 'Crm Cd 2', 'Crm Cd 3', 'Crm Cd 4', 'LOCATION', 'Cross Street', 'LAT', 'LON']\n"
     ]
    }
   ],
   "source": [
    "columns = list(df_raw.keys()) #save the columns names as a list\n",
    "print(columns) #show this list"
   ]
  },
  {
   "cell_type": "code",
   "execution_count": 6,
   "metadata": {},
   "outputs": [
    {
     "name": "stdout",
     "output_type": "stream",
     "text": [
      "<class 'pandas.core.frame.DataFrame'>\n",
      "RangeIndex: 982638 entries, 0 to 982637\n",
      "Data columns (total 28 columns):\n",
      " #   Column          Non-Null Count   Dtype  \n",
      "---  ------          --------------   -----  \n",
      " 0   DR_NO           982638 non-null  int64  \n",
      " 1   Date Rptd       982638 non-null  object \n",
      " 2   DATE OCC        982638 non-null  object \n",
      " 3   TIME OCC        982638 non-null  int64  \n",
      " 4   AREA            982638 non-null  int64  \n",
      " 5   AREA NAME       982638 non-null  object \n",
      " 6   Rpt Dist No     982638 non-null  int64  \n",
      " 7   Part 1-2        982638 non-null  int64  \n",
      " 8   Crm Cd          982638 non-null  int64  \n",
      " 9   Crm Cd Desc     982638 non-null  object \n",
      " 10  Mocodes         837376 non-null  object \n",
      " 11  Vict Age        982638 non-null  int64  \n",
      " 12  Vict Sex        844193 non-null  object \n",
      " 13  Vict Descent    844182 non-null  object \n",
      " 14  Premis Cd       982624 non-null  float64\n",
      " 15  Premis Desc     982053 non-null  object \n",
      " 16  Weapon Used Cd  326167 non-null  float64\n",
      " 17  Weapon Desc     326167 non-null  object \n",
      " 18  Status          982637 non-null  object \n",
      " 19  Status Desc     982638 non-null  object \n",
      " 20  Crm Cd 1        982627 non-null  float64\n",
      " 21  Crm Cd 2        68875 non-null   float64\n",
      " 22  Crm Cd 3        2311 non-null    float64\n",
      " 23  Crm Cd 4        64 non-null      float64\n",
      " 24  LOCATION        982638 non-null  object \n",
      " 25  Cross Street    151849 non-null  object \n",
      " 26  LAT             982638 non-null  float64\n",
      " 27  LON             982638 non-null  float64\n",
      "dtypes: float64(8), int64(7), object(13)\n",
      "memory usage: 209.9+ MB\n"
     ]
    }
   ],
   "source": [
    "df_raw.info()"
   ]
  },
  {
   "cell_type": "code",
   "execution_count": 7,
   "metadata": {},
   "outputs": [
    {
     "data": {
      "text/plain": [
       "(982638, 28)"
      ]
     },
     "execution_count": 7,
     "metadata": {},
     "output_type": "execute_result"
    }
   ],
   "source": [
    "df_raw.shape"
   ]
  },
  {
   "cell_type": "code",
   "execution_count": 8,
   "metadata": {},
   "outputs": [
    {
     "data": {
      "text/plain": [
       "DR_NO\n",
       "False    982638\n",
       "Name: count, dtype: int64"
      ]
     },
     "execution_count": 8,
     "metadata": {},
     "output_type": "execute_result"
    }
   ],
   "source": [
    "df_raw[\"DR_NO\"].duplicated().value_counts()"
   ]
  },
  {
   "cell_type": "code",
   "execution_count": 9,
   "metadata": {},
   "outputs": [
    {
     "data": {
      "text/plain": [
       "886497    249904551\n",
       "948845    249913791\n",
       "906447    249917269\n",
       "938460    249918669\n",
       "883286    249925282\n",
       "Name: DR_NO, dtype: int64"
      ]
     },
     "execution_count": 9,
     "metadata": {},
     "output_type": "execute_result"
    }
   ],
   "source": [
    "df_raw[\"DR_NO\"].sort_values().tail()"
   ]
  },
  {
   "cell_type": "code",
   "execution_count": 10,
   "metadata": {},
   "outputs": [
    {
     "name": "stdout",
     "output_type": "stream",
     "text": [
      "['STRONG-ARM (HANDS, FIST, FEET OR BODILY FORCE)', 'VEHICLE', 'UNKNOWN WEAPON/OTHER WEAPON', 'VERBAL THREAT', 'BELT FLAILING INSTRUMENT/CHAIN', 'HAND GUN', 'UNKNOWN FIREARM', 'KNIFE WITH BLADE 6INCHES OR LESS', 'FIXED OBJECT', 'KITCHEN KNIFE', 'MACHETE', 'UNKNOWN TYPE CUTTING INSTRUMENT', 'MACE/PEPPER SPRAY', 'STICK', 'OTHER KNIFE', 'PHYSICAL PRESENCE', 'KNIFE WITH BLADE OVER 6 INCHES IN LENGTH', 'HAMMER', 'AIR PISTOL/REVOLVER/RIFLE/BB GUN', 'SEMI-AUTOMATIC PISTOL', 'SIMULATED GUN', 'RAZOR', 'OTHER FIREARM', 'FOLDING KNIFE', 'PIPE/METAL PIPE', 'ROCK/THROWN OBJECT', 'RIFLE', 'OTHER CUTTING INSTRUMENT', 'FIRE', 'REVOLVER', 'BOTTLE', 'SCISSORS', 'SWITCH BLADE', 'BRASS KNUCKLES', 'CLUB/BAT', 'BLUNT INSTRUMENT', 'BOARD', 'STUN GUN', 'CLEAVER', 'RAZOR BLADE', 'SCREWDRIVER', 'SHOTGUN', 'CONCRETE BLOCK/BRICK', 'CAUSTIC CHEMICAL/POISON', 'SEMI-AUTOMATIC RIFLE', 'SCALDING LIQUID', 'TIRE IRON', 'BOWIE KNIFE', 'GLASS', 'AXE', 'TOY GUN', 'BOMB THREAT', 'SAWED OFF RIFLE/SHOTGUN', 'MARTIAL ARTS WEAPONS', 'DEMAND NOTE', 'DIRK/DAGGER', 'ASSAULT WEAPON/UZI/AK47/ETC', 'ROPE/LIGATURE', 'HECKLER & KOCH 93 SEMIAUTOMATIC ASSAULT RIFLE', 'EXPLOXIVE DEVICE', 'SWORD', 'MAC-11 SEMIAUTOMATIC ASSAULT WEAPON', 'SYRINGE', 'BOW AND ARROW', 'LIQUOR/DRUGS', 'DOG/ANIMAL (SIC ANIMAL ON)', 'BLACKJACK', 'ICE PICK', 'RELIC FIREARM', 'AUTOMATIC WEAPON/SUB-MACHINE GUN', 'ANTIQUE FIREARM', 'HECKLER & KOCH 91 SEMIAUTOMATIC ASSAULT RIFLE', 'STRAIGHT RAZOR', 'M1-1 SEMIAUTOMATIC ASSAULT RIFLE', 'STARTER PISTOL/REVOLVER', 'UZI SEMIAUTOMATIC ASSAULT RIFLE', 'MAC-10 SEMIAUTOMATIC ASSAULT WEAPON', 'UNK TYPE SEMIAUTOMATIC ASSAULT RIFLE', 'M-14 SEMIAUTOMATIC ASSAULT RIFLE']\n",
      "Total Weapons:  79\n"
     ]
    }
   ],
   "source": [
    "weapon_list = list(df_raw[df_raw['Weapon Desc'].notna()]['Weapon Desc'].unique()) #Save the exist weapons in the dataset on a list\n",
    "print(weapon_list)#show this list\n",
    "print('Total Weapons: ',len(weapon_list))"
   ]
  },
  {
   "cell_type": "code",
   "execution_count": 11,
   "metadata": {},
   "outputs": [
    {
     "data": {
      "text/html": [
       "<div>\n",
       "<style scoped>\n",
       "    .dataframe tbody tr th:only-of-type {\n",
       "        vertical-align: middle;\n",
       "    }\n",
       "\n",
       "    .dataframe tbody tr th {\n",
       "        vertical-align: top;\n",
       "    }\n",
       "\n",
       "    .dataframe thead th {\n",
       "        text-align: right;\n",
       "    }\n",
       "</style>\n",
       "<table border=\"1\" class=\"dataframe\">\n",
       "  <thead>\n",
       "    <tr style=\"text-align: right;\">\n",
       "      <th></th>\n",
       "      <th>DR_NO</th>\n",
       "      <th>TIME OCC</th>\n",
       "      <th>AREA</th>\n",
       "      <th>Rpt Dist No</th>\n",
       "      <th>Part 1-2</th>\n",
       "      <th>Crm Cd</th>\n",
       "      <th>Vict Age</th>\n",
       "      <th>Premis Cd</th>\n",
       "      <th>Weapon Used Cd</th>\n",
       "      <th>Crm Cd 1</th>\n",
       "      <th>Crm Cd 2</th>\n",
       "      <th>Crm Cd 3</th>\n",
       "      <th>Crm Cd 4</th>\n",
       "      <th>LAT</th>\n",
       "      <th>LON</th>\n",
       "    </tr>\n",
       "  </thead>\n",
       "  <tbody>\n",
       "    <tr>\n",
       "      <th>count</th>\n",
       "      <td>9.826380e+05</td>\n",
       "      <td>982638.000000</td>\n",
       "      <td>982638.000000</td>\n",
       "      <td>982638.000000</td>\n",
       "      <td>982638.000000</td>\n",
       "      <td>982638.000000</td>\n",
       "      <td>982638.000000</td>\n",
       "      <td>982624.000000</td>\n",
       "      <td>326167.000000</td>\n",
       "      <td>982627.000000</td>\n",
       "      <td>68875.000000</td>\n",
       "      <td>2311.000000</td>\n",
       "      <td>64.00000</td>\n",
       "      <td>982638.000000</td>\n",
       "      <td>982638.000000</td>\n",
       "    </tr>\n",
       "    <tr>\n",
       "      <th>mean</th>\n",
       "      <td>2.197437e+08</td>\n",
       "      <td>1338.945426</td>\n",
       "      <td>10.700277</td>\n",
       "      <td>1116.459887</td>\n",
       "      <td>1.404253</td>\n",
       "      <td>500.823555</td>\n",
       "      <td>29.079817</td>\n",
       "      <td>306.133008</td>\n",
       "      <td>363.840882</td>\n",
       "      <td>500.578668</td>\n",
       "      <td>958.167085</td>\n",
       "      <td>984.204673</td>\n",
       "      <td>991.21875</td>\n",
       "      <td>33.995725</td>\n",
       "      <td>-118.082225</td>\n",
       "    </tr>\n",
       "    <tr>\n",
       "      <th>std</th>\n",
       "      <td>1.294954e+07</td>\n",
       "      <td>651.537830</td>\n",
       "      <td>6.107808</td>\n",
       "      <td>610.893787</td>\n",
       "      <td>0.490747</td>\n",
       "      <td>206.211940</td>\n",
       "      <td>21.970094</td>\n",
       "      <td>219.053795</td>\n",
       "      <td>123.684663</td>\n",
       "      <td>206.010361</td>\n",
       "      <td>110.232109</td>\n",
       "      <td>51.485644</td>\n",
       "      <td>27.06985</td>\n",
       "      <td>1.636729</td>\n",
       "      <td>5.672940</td>\n",
       "    </tr>\n",
       "    <tr>\n",
       "      <th>min</th>\n",
       "      <td>8.170000e+02</td>\n",
       "      <td>1.000000</td>\n",
       "      <td>1.000000</td>\n",
       "      <td>101.000000</td>\n",
       "      <td>1.000000</td>\n",
       "      <td>110.000000</td>\n",
       "      <td>-4.000000</td>\n",
       "      <td>101.000000</td>\n",
       "      <td>101.000000</td>\n",
       "      <td>110.000000</td>\n",
       "      <td>210.000000</td>\n",
       "      <td>310.000000</td>\n",
       "      <td>821.00000</td>\n",
       "      <td>0.000000</td>\n",
       "      <td>-118.667600</td>\n",
       "    </tr>\n",
       "    <tr>\n",
       "      <th>25%</th>\n",
       "      <td>2.106089e+08</td>\n",
       "      <td>900.000000</td>\n",
       "      <td>5.000000</td>\n",
       "      <td>587.000000</td>\n",
       "      <td>1.000000</td>\n",
       "      <td>331.000000</td>\n",
       "      <td>0.000000</td>\n",
       "      <td>101.000000</td>\n",
       "      <td>311.000000</td>\n",
       "      <td>331.000000</td>\n",
       "      <td>998.000000</td>\n",
       "      <td>998.000000</td>\n",
       "      <td>998.00000</td>\n",
       "      <td>34.014600</td>\n",
       "      <td>-118.430500</td>\n",
       "    </tr>\n",
       "    <tr>\n",
       "      <th>50%</th>\n",
       "      <td>2.208146e+08</td>\n",
       "      <td>1420.000000</td>\n",
       "      <td>11.000000</td>\n",
       "      <td>1141.000000</td>\n",
       "      <td>1.000000</td>\n",
       "      <td>442.000000</td>\n",
       "      <td>30.000000</td>\n",
       "      <td>203.000000</td>\n",
       "      <td>400.000000</td>\n",
       "      <td>442.000000</td>\n",
       "      <td>998.000000</td>\n",
       "      <td>998.000000</td>\n",
       "      <td>998.00000</td>\n",
       "      <td>34.058900</td>\n",
       "      <td>-118.322500</td>\n",
       "    </tr>\n",
       "    <tr>\n",
       "      <th>75%</th>\n",
       "      <td>2.309153e+08</td>\n",
       "      <td>1900.000000</td>\n",
       "      <td>16.000000</td>\n",
       "      <td>1617.000000</td>\n",
       "      <td>2.000000</td>\n",
       "      <td>626.000000</td>\n",
       "      <td>44.000000</td>\n",
       "      <td>501.000000</td>\n",
       "      <td>400.000000</td>\n",
       "      <td>626.000000</td>\n",
       "      <td>998.000000</td>\n",
       "      <td>998.000000</td>\n",
       "      <td>998.00000</td>\n",
       "      <td>34.164900</td>\n",
       "      <td>-118.273900</td>\n",
       "    </tr>\n",
       "    <tr>\n",
       "      <th>max</th>\n",
       "      <td>2.499253e+08</td>\n",
       "      <td>2359.000000</td>\n",
       "      <td>21.000000</td>\n",
       "      <td>2199.000000</td>\n",
       "      <td>2.000000</td>\n",
       "      <td>956.000000</td>\n",
       "      <td>120.000000</td>\n",
       "      <td>976.000000</td>\n",
       "      <td>516.000000</td>\n",
       "      <td>956.000000</td>\n",
       "      <td>999.000000</td>\n",
       "      <td>999.000000</td>\n",
       "      <td>999.00000</td>\n",
       "      <td>34.334300</td>\n",
       "      <td>0.000000</td>\n",
       "    </tr>\n",
       "  </tbody>\n",
       "</table>\n",
       "</div>"
      ],
      "text/plain": [
       "              DR_NO       TIME OCC           AREA    Rpt Dist No  \\\n",
       "count  9.826380e+05  982638.000000  982638.000000  982638.000000   \n",
       "mean   2.197437e+08    1338.945426      10.700277    1116.459887   \n",
       "std    1.294954e+07     651.537830       6.107808     610.893787   \n",
       "min    8.170000e+02       1.000000       1.000000     101.000000   \n",
       "25%    2.106089e+08     900.000000       5.000000     587.000000   \n",
       "50%    2.208146e+08    1420.000000      11.000000    1141.000000   \n",
       "75%    2.309153e+08    1900.000000      16.000000    1617.000000   \n",
       "max    2.499253e+08    2359.000000      21.000000    2199.000000   \n",
       "\n",
       "            Part 1-2         Crm Cd       Vict Age      Premis Cd  \\\n",
       "count  982638.000000  982638.000000  982638.000000  982624.000000   \n",
       "mean        1.404253     500.823555      29.079817     306.133008   \n",
       "std         0.490747     206.211940      21.970094     219.053795   \n",
       "min         1.000000     110.000000      -4.000000     101.000000   \n",
       "25%         1.000000     331.000000       0.000000     101.000000   \n",
       "50%         1.000000     442.000000      30.000000     203.000000   \n",
       "75%         2.000000     626.000000      44.000000     501.000000   \n",
       "max         2.000000     956.000000     120.000000     976.000000   \n",
       "\n",
       "       Weapon Used Cd       Crm Cd 1      Crm Cd 2     Crm Cd 3   Crm Cd 4  \\\n",
       "count   326167.000000  982627.000000  68875.000000  2311.000000   64.00000   \n",
       "mean       363.840882     500.578668    958.167085   984.204673  991.21875   \n",
       "std        123.684663     206.010361    110.232109    51.485644   27.06985   \n",
       "min        101.000000     110.000000    210.000000   310.000000  821.00000   \n",
       "25%        311.000000     331.000000    998.000000   998.000000  998.00000   \n",
       "50%        400.000000     442.000000    998.000000   998.000000  998.00000   \n",
       "75%        400.000000     626.000000    998.000000   998.000000  998.00000   \n",
       "max        516.000000     956.000000    999.000000   999.000000  999.00000   \n",
       "\n",
       "                 LAT            LON  \n",
       "count  982638.000000  982638.000000  \n",
       "mean       33.995725    -118.082225  \n",
       "std         1.636729       5.672940  \n",
       "min         0.000000    -118.667600  \n",
       "25%        34.014600    -118.430500  \n",
       "50%        34.058900    -118.322500  \n",
       "75%        34.164900    -118.273900  \n",
       "max        34.334300       0.000000  "
      ]
     },
     "execution_count": 11,
     "metadata": {},
     "output_type": "execute_result"
    }
   ],
   "source": [
    "df_raw.describe()"
   ]
  },
  {
   "cell_type": "markdown",
   "metadata": {},
   "source": [
    "We see in the Min value of Vict Age is a negative value thats incorrect "
   ]
  },
  {
   "cell_type": "code",
   "execution_count": 12,
   "metadata": {},
   "outputs": [],
   "source": [
    "#Drop the negative age records\n",
    "df_raw = df_raw[df_raw['Vict Age']>=0]"
   ]
  },
  {
   "cell_type": "code",
   "execution_count": 13,
   "metadata": {},
   "outputs": [
    {
     "data": {
      "text/plain": [
       "(982507, 28)"
      ]
     },
     "execution_count": 13,
     "metadata": {},
     "output_type": "execute_result"
    }
   ],
   "source": [
    "df_raw.shape"
   ]
  },
  {
   "cell_type": "markdown",
   "metadata": {},
   "source": [
    "---"
   ]
  },
  {
   "cell_type": "markdown",
   "metadata": {},
   "source": [
    "Now we look for the statistics about the categorical values"
   ]
  },
  {
   "cell_type": "code",
   "execution_count": 14,
   "metadata": {},
   "outputs": [
    {
     "data": {
      "text/html": [
       "<div>\n",
       "<style scoped>\n",
       "    .dataframe tbody tr th:only-of-type {\n",
       "        vertical-align: middle;\n",
       "    }\n",
       "\n",
       "    .dataframe tbody tr th {\n",
       "        vertical-align: top;\n",
       "    }\n",
       "\n",
       "    .dataframe thead th {\n",
       "        text-align: right;\n",
       "    }\n",
       "</style>\n",
       "<table border=\"1\" class=\"dataframe\">\n",
       "  <thead>\n",
       "    <tr style=\"text-align: right;\">\n",
       "      <th></th>\n",
       "      <th>Date Rptd</th>\n",
       "      <th>DATE OCC</th>\n",
       "      <th>AREA NAME</th>\n",
       "      <th>Crm Cd Desc</th>\n",
       "      <th>Mocodes</th>\n",
       "      <th>Vict Sex</th>\n",
       "      <th>Vict Descent</th>\n",
       "      <th>Premis Desc</th>\n",
       "      <th>Weapon Desc</th>\n",
       "      <th>Status</th>\n",
       "      <th>Status Desc</th>\n",
       "      <th>LOCATION</th>\n",
       "      <th>Cross Street</th>\n",
       "    </tr>\n",
       "  </thead>\n",
       "  <tbody>\n",
       "    <tr>\n",
       "      <th>count</th>\n",
       "      <td>982507</td>\n",
       "      <td>982507</td>\n",
       "      <td>982507</td>\n",
       "      <td>982507</td>\n",
       "      <td>837249</td>\n",
       "      <td>844062</td>\n",
       "      <td>844051</td>\n",
       "      <td>981922</td>\n",
       "      <td>326156</td>\n",
       "      <td>982506</td>\n",
       "      <td>982507</td>\n",
       "      <td>982507</td>\n",
       "      <td>151840</td>\n",
       "    </tr>\n",
       "    <tr>\n",
       "      <th>unique</th>\n",
       "      <td>1735</td>\n",
       "      <td>1735</td>\n",
       "      <td>21</td>\n",
       "      <td>140</td>\n",
       "      <td>309350</td>\n",
       "      <td>5</td>\n",
       "      <td>20</td>\n",
       "      <td>306</td>\n",
       "      <td>79</td>\n",
       "      <td>6</td>\n",
       "      <td>6</td>\n",
       "      <td>66263</td>\n",
       "      <td>10326</td>\n",
       "    </tr>\n",
       "    <tr>\n",
       "      <th>top</th>\n",
       "      <td>02/02/2023 12:00:00 AM</td>\n",
       "      <td>01/01/2020 12:00:00 AM</td>\n",
       "      <td>Central</td>\n",
       "      <td>VEHICLE - STOLEN</td>\n",
       "      <td>0344</td>\n",
       "      <td>M</td>\n",
       "      <td>H</td>\n",
       "      <td>STREET</td>\n",
       "      <td>STRONG-ARM (HANDS, FIST, FEET OR BODILY FORCE)</td>\n",
       "      <td>IC</td>\n",
       "      <td>Invest Cont</td>\n",
       "      <td>800 N  ALAMEDA                      ST</td>\n",
       "      <td>BROADWAY</td>\n",
       "    </tr>\n",
       "    <tr>\n",
       "      <th>freq</th>\n",
       "      <td>929</td>\n",
       "      <td>1150</td>\n",
       "      <td>67760</td>\n",
       "      <td>110803</td>\n",
       "      <td>40817</td>\n",
       "      <td>396744</td>\n",
       "      <td>292422</td>\n",
       "      <td>253578</td>\n",
       "      <td>174410</td>\n",
       "      <td>784851</td>\n",
       "      <td>784851</td>\n",
       "      <td>2522</td>\n",
       "      <td>2467</td>\n",
       "    </tr>\n",
       "  </tbody>\n",
       "</table>\n",
       "</div>"
      ],
      "text/plain": [
       "                     Date Rptd                DATE OCC AREA NAME  \\\n",
       "count                   982507                  982507    982507   \n",
       "unique                    1735                    1735        21   \n",
       "top     02/02/2023 12:00:00 AM  01/01/2020 12:00:00 AM   Central   \n",
       "freq                       929                    1150     67760   \n",
       "\n",
       "             Crm Cd Desc Mocodes Vict Sex Vict Descent Premis Desc  \\\n",
       "count             982507  837249   844062       844051      981922   \n",
       "unique               140  309350        5           20         306   \n",
       "top     VEHICLE - STOLEN    0344        M            H      STREET   \n",
       "freq              110803   40817   396744       292422      253578   \n",
       "\n",
       "                                           Weapon Desc  Status  Status Desc  \\\n",
       "count                                           326156  982506       982507   \n",
       "unique                                              79       6            6   \n",
       "top     STRONG-ARM (HANDS, FIST, FEET OR BODILY FORCE)      IC  Invest Cont   \n",
       "freq                                            174410  784851       784851   \n",
       "\n",
       "                                      LOCATION Cross Street  \n",
       "count                                   982507       151840  \n",
       "unique                                   66263        10326  \n",
       "top     800 N  ALAMEDA                      ST     BROADWAY  \n",
       "freq                                      2522         2467  "
      ]
     },
     "execution_count": 14,
     "metadata": {},
     "output_type": "execute_result"
    }
   ],
   "source": [
    "df_raw.describe(include='object') #show some statistics about categorical variables"
   ]
  },
  {
   "cell_type": "code",
   "execution_count": 15,
   "metadata": {},
   "outputs": [
    {
     "data": {
      "text/plain": [
       "array(['AA', 'IC', 'AO', 'JA', 'JO', 'CC', None], dtype=object)"
      ]
     },
     "execution_count": 15,
     "metadata": {},
     "output_type": "execute_result"
    }
   ],
   "source": [
    "df_raw['Status'].unique()#Show all the differents records in the status column"
   ]
  },
  {
   "cell_type": "code",
   "execution_count": 16,
   "metadata": {},
   "outputs": [
    {
     "data": {
      "text/plain": [
       "array(['Adult Arrest', 'Invest Cont', 'Adult Other', 'Juv Arrest',\n",
       "       'Juv Other', 'UNK'], dtype=object)"
      ]
     },
     "execution_count": 16,
     "metadata": {},
     "output_type": "execute_result"
    }
   ],
   "source": [
    "df_raw['Status Desc'].unique()#Show all the differents records in the Status Desc column"
   ]
  },
  {
   "cell_type": "code",
   "execution_count": 17,
   "metadata": {},
   "outputs": [
    {
     "data": {
      "text/html": [
       "<div>\n",
       "<style scoped>\n",
       "    .dataframe tbody tr th:only-of-type {\n",
       "        vertical-align: middle;\n",
       "    }\n",
       "\n",
       "    .dataframe tbody tr th {\n",
       "        vertical-align: top;\n",
       "    }\n",
       "\n",
       "    .dataframe thead th {\n",
       "        text-align: right;\n",
       "    }\n",
       "</style>\n",
       "<table border=\"1\" class=\"dataframe\">\n",
       "  <thead>\n",
       "    <tr style=\"text-align: right;\">\n",
       "      <th></th>\n",
       "      <th>Status</th>\n",
       "      <th>Status Desc</th>\n",
       "    </tr>\n",
       "  </thead>\n",
       "  <tbody>\n",
       "    <tr>\n",
       "      <th>880911</th>\n",
       "      <td>None</td>\n",
       "      <td>UNK</td>\n",
       "    </tr>\n",
       "  </tbody>\n",
       "</table>\n",
       "</div>"
      ],
      "text/plain": [
       "       Status Status Desc\n",
       "880911   None         UNK"
      ]
     },
     "execution_count": 17,
     "metadata": {},
     "output_type": "execute_result"
    }
   ],
   "source": [
    "df_raw[df_raw['Status'].isna()][['Status', 'Status Desc']]#We saw when the status is null the description is UNK"
   ]
  },
  {
   "cell_type": "code",
   "execution_count": 18,
   "metadata": {},
   "outputs": [
    {
     "data": {
      "text/html": [
       "<div>\n",
       "<style scoped>\n",
       "    .dataframe tbody tr th:only-of-type {\n",
       "        vertical-align: middle;\n",
       "    }\n",
       "\n",
       "    .dataframe tbody tr th {\n",
       "        vertical-align: top;\n",
       "    }\n",
       "\n",
       "    .dataframe thead th {\n",
       "        text-align: right;\n",
       "    }\n",
       "</style>\n",
       "<table border=\"1\" class=\"dataframe\">\n",
       "  <thead>\n",
       "    <tr style=\"text-align: right;\">\n",
       "      <th></th>\n",
       "      <th>Status</th>\n",
       "      <th>Status Desc</th>\n",
       "    </tr>\n",
       "  </thead>\n",
       "  <tbody>\n",
       "    <tr>\n",
       "      <th>487786</th>\n",
       "      <td>CC</td>\n",
       "      <td>UNK</td>\n",
       "    </tr>\n",
       "    <tr>\n",
       "      <th>606926</th>\n",
       "      <td>CC</td>\n",
       "      <td>UNK</td>\n",
       "    </tr>\n",
       "    <tr>\n",
       "      <th>725108</th>\n",
       "      <td>CC</td>\n",
       "      <td>UNK</td>\n",
       "    </tr>\n",
       "    <tr>\n",
       "      <th>817485</th>\n",
       "      <td>CC</td>\n",
       "      <td>UNK</td>\n",
       "    </tr>\n",
       "    <tr>\n",
       "      <th>849492</th>\n",
       "      <td>CC</td>\n",
       "      <td>UNK</td>\n",
       "    </tr>\n",
       "    <tr>\n",
       "      <th>923956</th>\n",
       "      <td>CC</td>\n",
       "      <td>UNK</td>\n",
       "    </tr>\n",
       "  </tbody>\n",
       "</table>\n",
       "</div>"
      ],
      "text/plain": [
       "       Status Status Desc\n",
       "487786     CC         UNK\n",
       "606926     CC         UNK\n",
       "725108     CC         UNK\n",
       "817485     CC         UNK\n",
       "849492     CC         UNK\n",
       "923956     CC         UNK"
      ]
     },
     "execution_count": 18,
     "metadata": {},
     "output_type": "execute_result"
    }
   ],
   "source": [
    "df_raw[df_raw['Status'] == 'CC'][['Status', 'Status Desc']]#We saw when the status is CC the description is UNK too"
   ]
  },
  {
   "cell_type": "markdown",
   "metadata": {},
   "source": [
    "#### UNK is the status desc of nulls and CC"
   ]
  },
  {
   "cell_type": "code",
   "execution_count": 19,
   "metadata": {},
   "outputs": [
    {
     "data": {
      "text/plain": [
       "array(['M', 'X', 'F', None, 'H', '-'], dtype=object)"
      ]
     },
     "execution_count": 19,
     "metadata": {},
     "output_type": "execute_result"
    }
   ],
   "source": [
    "df_raw['Vict Sex'].unique() #We see all the posible values into the Vict Sex Column"
   ]
  },
  {
   "cell_type": "markdown",
   "metadata": {},
   "source": [
    "---"
   ]
  },
  {
   "cell_type": "markdown",
   "metadata": {},
   "source": [
    "Looking in Vict Information\n"
   ]
  },
  {
   "cell_type": "code",
   "execution_count": 20,
   "metadata": {},
   "outputs": [
    {
     "data": {
      "text/html": [
       "<div>\n",
       "<style scoped>\n",
       "    .dataframe tbody tr th:only-of-type {\n",
       "        vertical-align: middle;\n",
       "    }\n",
       "\n",
       "    .dataframe tbody tr th {\n",
       "        vertical-align: top;\n",
       "    }\n",
       "\n",
       "    .dataframe thead th {\n",
       "        text-align: right;\n",
       "    }\n",
       "</style>\n",
       "<table border=\"1\" class=\"dataframe\">\n",
       "  <thead>\n",
       "    <tr style=\"text-align: right;\">\n",
       "      <th></th>\n",
       "      <th>AREA NAME</th>\n",
       "      <th>Status Desc</th>\n",
       "      <th>Vict Sex</th>\n",
       "    </tr>\n",
       "  </thead>\n",
       "  <tbody>\n",
       "    <tr>\n",
       "      <th>2</th>\n",
       "      <td>Southwest</td>\n",
       "      <td>Invest Cont</td>\n",
       "      <td>X</td>\n",
       "    </tr>\n",
       "    <tr>\n",
       "      <th>60</th>\n",
       "      <td>Central</td>\n",
       "      <td>Invest Cont</td>\n",
       "      <td>X</td>\n",
       "    </tr>\n",
       "    <tr>\n",
       "      <th>156</th>\n",
       "      <td>Harbor</td>\n",
       "      <td>Invest Cont</td>\n",
       "      <td>X</td>\n",
       "    </tr>\n",
       "    <tr>\n",
       "      <th>171</th>\n",
       "      <td>Southwest</td>\n",
       "      <td>Invest Cont</td>\n",
       "      <td>X</td>\n",
       "    </tr>\n",
       "    <tr>\n",
       "      <th>189</th>\n",
       "      <td>Northeast</td>\n",
       "      <td>Invest Cont</td>\n",
       "      <td>X</td>\n",
       "    </tr>\n",
       "    <tr>\n",
       "      <th>...</th>\n",
       "      <td>...</td>\n",
       "      <td>...</td>\n",
       "      <td>...</td>\n",
       "    </tr>\n",
       "    <tr>\n",
       "      <th>982582</th>\n",
       "      <td>West LA</td>\n",
       "      <td>Invest Cont</td>\n",
       "      <td>X</td>\n",
       "    </tr>\n",
       "    <tr>\n",
       "      <th>982588</th>\n",
       "      <td>Harbor</td>\n",
       "      <td>Invest Cont</td>\n",
       "      <td>X</td>\n",
       "    </tr>\n",
       "    <tr>\n",
       "      <th>982600</th>\n",
       "      <td>N Hollywood</td>\n",
       "      <td>Adult Arrest</td>\n",
       "      <td>X</td>\n",
       "    </tr>\n",
       "    <tr>\n",
       "      <th>982602</th>\n",
       "      <td>Van Nuys</td>\n",
       "      <td>Invest Cont</td>\n",
       "      <td>X</td>\n",
       "    </tr>\n",
       "    <tr>\n",
       "      <th>982635</th>\n",
       "      <td>Central</td>\n",
       "      <td>Invest Cont</td>\n",
       "      <td>X</td>\n",
       "    </tr>\n",
       "  </tbody>\n",
       "</table>\n",
       "<p>94580 rows × 3 columns</p>\n",
       "</div>"
      ],
      "text/plain": [
       "          AREA NAME   Status Desc Vict Sex\n",
       "2         Southwest   Invest Cont        X\n",
       "60          Central   Invest Cont        X\n",
       "156          Harbor   Invest Cont        X\n",
       "171       Southwest   Invest Cont        X\n",
       "189       Northeast   Invest Cont        X\n",
       "...             ...           ...      ...\n",
       "982582      West LA   Invest Cont        X\n",
       "982588       Harbor   Invest Cont        X\n",
       "982600  N Hollywood  Adult Arrest        X\n",
       "982602     Van Nuys   Invest Cont        X\n",
       "982635      Central   Invest Cont        X\n",
       "\n",
       "[94580 rows x 3 columns]"
      ]
     },
     "execution_count": 20,
     "metadata": {},
     "output_type": "execute_result"
    }
   ],
   "source": [
    "df_raw[(df_raw['Vict Sex']=='H') | (df_raw['Vict Sex']=='-') | (df_raw['Vict Sex']=='X')][['AREA NAME', 'Status Desc', 'Vict Sex']]"
   ]
  },
  {
   "cell_type": "markdown",
   "metadata": {},
   "source": [
    "\t\n",
    "Descent Code: A - Other Asian B - Black C - Chinese D - Cambodian F - Filipino G - Guamanian H - Hispanic/Latin/Mexican I - American Indian/Alaskan Native J - Japanese K - Korean L - Laotian O - Other P - Pacific Islander S - Samoan U - Hawaiian V - Vietnamese W - White X - Unknown Z - Asian Indian"
   ]
  },
  {
   "cell_type": "code",
   "execution_count": 21,
   "metadata": {},
   "outputs": [
    {
     "data": {
      "text/html": [
       "<div>\n",
       "<style scoped>\n",
       "    .dataframe tbody tr th:only-of-type {\n",
       "        vertical-align: middle;\n",
       "    }\n",
       "\n",
       "    .dataframe tbody tr th {\n",
       "        vertical-align: top;\n",
       "    }\n",
       "\n",
       "    .dataframe thead th {\n",
       "        text-align: right;\n",
       "    }\n",
       "</style>\n",
       "<table border=\"1\" class=\"dataframe\">\n",
       "  <thead>\n",
       "    <tr style=\"text-align: right;\">\n",
       "      <th></th>\n",
       "      <th>AREA NAME</th>\n",
       "      <th>Status Desc</th>\n",
       "      <th>Vict Sex</th>\n",
       "      <th>Vict Descent</th>\n",
       "    </tr>\n",
       "  </thead>\n",
       "  <tbody>\n",
       "    <tr>\n",
       "      <th>807424</th>\n",
       "      <td>Olympic</td>\n",
       "      <td>Invest Cont</td>\n",
       "      <td>-</td>\n",
       "      <td>-</td>\n",
       "    </tr>\n",
       "  </tbody>\n",
       "</table>\n",
       "</div>"
      ],
      "text/plain": [
       "       AREA NAME  Status Desc Vict Sex Vict Descent\n",
       "807424   Olympic  Invest Cont        -            -"
      ]
     },
     "execution_count": 21,
     "metadata": {},
     "output_type": "execute_result"
    }
   ],
   "source": [
    "df_raw[df_raw['Vict Sex'] == '-'][['AREA NAME', 'Status Desc', 'Vict Sex', 'Vict Descent']]"
   ]
  },
  {
   "cell_type": "code",
   "execution_count": 22,
   "metadata": {},
   "outputs": [
    {
     "data": {
      "text/html": [
       "<div>\n",
       "<style scoped>\n",
       "    .dataframe tbody tr th:only-of-type {\n",
       "        vertical-align: middle;\n",
       "    }\n",
       "\n",
       "    .dataframe tbody tr th {\n",
       "        vertical-align: top;\n",
       "    }\n",
       "\n",
       "    .dataframe thead th {\n",
       "        text-align: right;\n",
       "    }\n",
       "</style>\n",
       "<table border=\"1\" class=\"dataframe\">\n",
       "  <thead>\n",
       "    <tr style=\"text-align: right;\">\n",
       "      <th></th>\n",
       "      <th>AREA NAME</th>\n",
       "      <th>Status Desc</th>\n",
       "      <th>Vict Sex</th>\n",
       "      <th>Vict Descent</th>\n",
       "    </tr>\n",
       "  </thead>\n",
       "  <tbody>\n",
       "    <tr>\n",
       "      <th>17626</th>\n",
       "      <td>Wilshire</td>\n",
       "      <td>Invest Cont</td>\n",
       "      <td>H</td>\n",
       "      <td>H</td>\n",
       "    </tr>\n",
       "    <tr>\n",
       "      <th>21744</th>\n",
       "      <td>Wilshire</td>\n",
       "      <td>Invest Cont</td>\n",
       "      <td>H</td>\n",
       "      <td>F</td>\n",
       "    </tr>\n",
       "    <tr>\n",
       "      <th>30529</th>\n",
       "      <td>Olympic</td>\n",
       "      <td>Adult Other</td>\n",
       "      <td>H</td>\n",
       "      <td>H</td>\n",
       "    </tr>\n",
       "    <tr>\n",
       "      <th>38072</th>\n",
       "      <td>Rampart</td>\n",
       "      <td>Invest Cont</td>\n",
       "      <td>H</td>\n",
       "      <td>F</td>\n",
       "    </tr>\n",
       "    <tr>\n",
       "      <th>57071</th>\n",
       "      <td>Newton</td>\n",
       "      <td>Invest Cont</td>\n",
       "      <td>H</td>\n",
       "      <td>F</td>\n",
       "    </tr>\n",
       "    <tr>\n",
       "      <th>...</th>\n",
       "      <td>...</td>\n",
       "      <td>...</td>\n",
       "      <td>...</td>\n",
       "      <td>...</td>\n",
       "    </tr>\n",
       "    <tr>\n",
       "      <th>969721</th>\n",
       "      <td>Northeast</td>\n",
       "      <td>Invest Cont</td>\n",
       "      <td>H</td>\n",
       "      <td>F</td>\n",
       "    </tr>\n",
       "    <tr>\n",
       "      <th>971932</th>\n",
       "      <td>Olympic</td>\n",
       "      <td>Invest Cont</td>\n",
       "      <td>H</td>\n",
       "      <td>F</td>\n",
       "    </tr>\n",
       "    <tr>\n",
       "      <th>975039</th>\n",
       "      <td>Southwest</td>\n",
       "      <td>Invest Cont</td>\n",
       "      <td>H</td>\n",
       "      <td>X</td>\n",
       "    </tr>\n",
       "    <tr>\n",
       "      <th>975352</th>\n",
       "      <td>Central</td>\n",
       "      <td>Invest Cont</td>\n",
       "      <td>H</td>\n",
       "      <td>F</td>\n",
       "    </tr>\n",
       "    <tr>\n",
       "      <th>982198</th>\n",
       "      <td>Olympic</td>\n",
       "      <td>Invest Cont</td>\n",
       "      <td>H</td>\n",
       "      <td>W</td>\n",
       "    </tr>\n",
       "  </tbody>\n",
       "</table>\n",
       "<p>112 rows × 4 columns</p>\n",
       "</div>"
      ],
      "text/plain": [
       "        AREA NAME  Status Desc Vict Sex Vict Descent\n",
       "17626    Wilshire  Invest Cont        H            H\n",
       "21744    Wilshire  Invest Cont        H            F\n",
       "30529     Olympic  Adult Other        H            H\n",
       "38072     Rampart  Invest Cont        H            F\n",
       "57071      Newton  Invest Cont        H            F\n",
       "...           ...          ...      ...          ...\n",
       "969721  Northeast  Invest Cont        H            F\n",
       "971932    Olympic  Invest Cont        H            F\n",
       "975039  Southwest  Invest Cont        H            X\n",
       "975352    Central  Invest Cont        H            F\n",
       "982198    Olympic  Invest Cont        H            W\n",
       "\n",
       "[112 rows x 4 columns]"
      ]
     },
     "execution_count": 22,
     "metadata": {},
     "output_type": "execute_result"
    }
   ],
   "source": [
    "df_raw[df_raw['Vict Sex'] == 'H'][['AREA NAME', 'Status Desc', 'Vict Sex', 'Vict Descent']]"
   ]
  },
  {
   "cell_type": "code",
   "execution_count": 23,
   "metadata": {},
   "outputs": [
    {
     "data": {
      "text/html": [
       "<div>\n",
       "<style scoped>\n",
       "    .dataframe tbody tr th:only-of-type {\n",
       "        vertical-align: middle;\n",
       "    }\n",
       "\n",
       "    .dataframe tbody tr th {\n",
       "        vertical-align: top;\n",
       "    }\n",
       "\n",
       "    .dataframe thead th {\n",
       "        text-align: right;\n",
       "    }\n",
       "</style>\n",
       "<table border=\"1\" class=\"dataframe\">\n",
       "  <thead>\n",
       "    <tr style=\"text-align: right;\">\n",
       "      <th></th>\n",
       "      <th>AREA NAME</th>\n",
       "      <th>Status Desc</th>\n",
       "      <th>Vict Sex</th>\n",
       "      <th>Vict Descent</th>\n",
       "    </tr>\n",
       "  </thead>\n",
       "  <tbody>\n",
       "    <tr>\n",
       "      <th>count</th>\n",
       "      <td>112</td>\n",
       "      <td>112</td>\n",
       "      <td>112</td>\n",
       "      <td>112</td>\n",
       "    </tr>\n",
       "    <tr>\n",
       "      <th>unique</th>\n",
       "      <td>19</td>\n",
       "      <td>3</td>\n",
       "      <td>1</td>\n",
       "      <td>8</td>\n",
       "    </tr>\n",
       "    <tr>\n",
       "      <th>top</th>\n",
       "      <td>Newton</td>\n",
       "      <td>Invest Cont</td>\n",
       "      <td>H</td>\n",
       "      <td>F</td>\n",
       "    </tr>\n",
       "    <tr>\n",
       "      <th>freq</th>\n",
       "      <td>19</td>\n",
       "      <td>99</td>\n",
       "      <td>112</td>\n",
       "      <td>55</td>\n",
       "    </tr>\n",
       "  </tbody>\n",
       "</table>\n",
       "</div>"
      ],
      "text/plain": [
       "       AREA NAME  Status Desc Vict Sex Vict Descent\n",
       "count        112          112      112          112\n",
       "unique        19            3        1            8\n",
       "top       Newton  Invest Cont        H            F\n",
       "freq          19           99      112           55"
      ]
     },
     "execution_count": 23,
     "metadata": {},
     "output_type": "execute_result"
    }
   ],
   "source": [
    "df_raw[df_raw['Vict Sex'] == 'H'][['AREA NAME', 'Status Desc', 'Vict Sex', 'Vict Descent']].describe(include='object')"
   ]
  },
  {
   "cell_type": "code",
   "execution_count": 24,
   "metadata": {},
   "outputs": [
    {
     "name": "stdout",
     "output_type": "stream",
     "text": [
      "<class 'pandas.core.series.Series'>\n",
      "Index: 982507 entries, 0 to 982637\n",
      "Series name: Cross Street\n",
      "Non-Null Count   Dtype \n",
      "--------------   ----- \n",
      "151840 non-null  object\n",
      "dtypes: object(1)\n",
      "memory usage: 15.0+ MB\n"
     ]
    }
   ],
   "source": [
    "df_raw['Cross Street'].info() #We saw that this column have near 90% of the records in null"
   ]
  },
  {
   "cell_type": "code",
   "execution_count": 25,
   "metadata": {},
   "outputs": [
    {
     "data": {
      "text/plain": [
       "Index(['DR_NO', 'Date Rptd', 'DATE OCC', 'TIME OCC', 'AREA', 'AREA NAME',\n",
       "       'Rpt Dist No', 'Part 1-2', 'Crm Cd', 'Crm Cd Desc', 'Mocodes',\n",
       "       'Vict Age', 'Vict Sex', 'Vict Descent', 'Premis Cd', 'Premis Desc',\n",
       "       'Weapon Used Cd', 'Weapon Desc', 'Status', 'Status Desc', 'Crm Cd 1',\n",
       "       'Crm Cd 2', 'Crm Cd 3', 'Crm Cd 4', 'LOCATION', 'LAT', 'LON'],\n",
       "      dtype='object')"
      ]
     },
     "execution_count": 25,
     "metadata": {},
     "output_type": "execute_result"
    }
   ],
   "source": [
    "df_raw.drop(columns=['Cross Street'], inplace=True)\n",
    "df_raw.keys()"
   ]
  },
  {
   "cell_type": "code",
   "execution_count": 26,
   "metadata": {},
   "outputs": [
    {
     "data": {
      "text/plain": [
       "0                                  None\n",
       "1                        1822 1402 0344\n",
       "2                             0344 1251\n",
       "3                             0325 1501\n",
       "4                   1822 1501 0930 2004\n",
       "                      ...              \n",
       "982633                        0344 1822\n",
       "982634                             None\n",
       "982635                   0329 0400 0416\n",
       "982636    1822 0334 0416 0445 0449 1202\n",
       "982637                             None\n",
       "Name: Mocodes, Length: 982507, dtype: object"
      ]
     },
     "execution_count": 26,
     "metadata": {},
     "output_type": "execute_result"
    }
   ],
   "source": [
    "df_raw['Mocodes']"
   ]
  },
  {
   "cell_type": "code",
   "execution_count": 27,
   "metadata": {},
   "outputs": [
    {
     "data": {
      "text/plain": [
       "array([510, 330, 480, 343, 354, 624, 821, 812, 230, 956, 341, 930, 668,\n",
       "       420, 813, 440, 626, 762, 441, 310, 331, 210, 662, 860, 236, 820,\n",
       "       661, 810, 901, 442, 740, 761, 649, 845, 121, 745, 946, 627, 653,\n",
       "       928, 815, 940, 625, 352, 648, 886, 666, 921, 805, 932, 900, 903,\n",
       "       439, 954, 434, 235, 220, 654, 922, 760, 850, 237, 763, 345, 888,\n",
       "       320, 122, 753, 822, 350, 520, 806, 906, 437, 410, 623, 522, 450,\n",
       "       890, 755, 231, 664, 251, 951, 920, 250, 470, 902, 647, 651, 910,\n",
       "       110, 351, 421, 444, 670, 814, 756, 433, 931, 435, 438, 443, 660,\n",
       "       950, 622, 943, 487, 949, 933, 865, 474, 652, 113, 446, 475, 471,\n",
       "       451, 436, 485, 944, 349, 942, 347, 353, 870, 473, 880, 452, 924,\n",
       "       840, 948, 884, 904, 830, 432, 882, 445, 926, 453])"
      ]
     },
     "execution_count": 27,
     "metadata": {},
     "output_type": "execute_result"
    }
   ],
   "source": [
    "df_raw[\"Crm Cd\"].unique()"
   ]
  },
  {
   "cell_type": "code",
   "execution_count": 28,
   "metadata": {},
   "outputs": [
    {
     "data": {
      "text/plain": [
       "array([510., 330., 480., 343., 354., 624., 812., 230., 956., 341., 930.,\n",
       "       668., 420., 813., 440., 626., 762., 441., 310., 331., 210., 662.,\n",
       "       860., 236., 661., 810., 901., 442., 740., 761., 649., 845., 121.,\n",
       "       745., 946., 627., 653., 821., 928., 815., 940., 625., 352., 648.,\n",
       "       886., 666., 921., 805., 932., 900., 820., 903., 439., 760., 954.,\n",
       "       434., 235., 220., 654., 922., 850., 237., 763., 345., 888., 320.,\n",
       "       122., 753., 822., 350., 520., 806., 906., 437., 410., 623., 522.,\n",
       "       450., 890., 755., 231., 664., 251., 951., 920., 250., 470., 902.,\n",
       "       647., 651., 910., 110., 351., 421., 444., 670., 814., 756., 433.,\n",
       "       931., 435., 438., 443., 660., 950., 622., 943., 487.,  nan, 949.,\n",
       "       933., 865., 474., 652., 113., 446., 475., 471., 451., 436., 521.,\n",
       "       485., 944., 349., 942., 347., 353., 430., 870., 473., 880., 452.,\n",
       "       924., 840., 948., 884., 904., 830., 432., 882., 445., 926., 453.])"
      ]
     },
     "execution_count": 28,
     "metadata": {},
     "output_type": "execute_result"
    }
   ],
   "source": [
    "df_raw[\"Crm Cd 1\"].unique()"
   ]
  },
  {
   "cell_type": "code",
   "execution_count": 29,
   "metadata": {},
   "outputs": [],
   "source": [
    "df_raw.to_csv('../Data/clean_data.csv', index=False)"
   ]
  },
  {
   "cell_type": "code",
   "execution_count": 30,
   "metadata": {},
   "outputs": [
    {
     "ename": "TypeError",
     "evalue": "NDFrame.to_sql() missing 1 required positional argument: 'con'",
     "output_type": "error",
     "traceback": [
      "\u001b[0;31m---------------------------------------------------------------------------\u001b[0m",
      "\u001b[0;31mTypeError\u001b[0m                                 Traceback (most recent call last)",
      "Cell \u001b[0;32mIn[30], line 1\u001b[0m\n\u001b[0;32m----> 1\u001b[0m \u001b[43mdf_raw\u001b[49m\u001b[38;5;241;43m.\u001b[39;49m\u001b[43mto_sql\u001b[49m\u001b[43m(\u001b[49m\u001b[43mname\u001b[49m\u001b[38;5;241;43m=\u001b[39;49m\u001b[38;5;124;43m\"\u001b[39;49m\u001b[38;5;124;43mcriminal_mind_clean\u001b[39;49m\u001b[38;5;124;43m\"\u001b[39;49m\u001b[43m,\u001b[49m\u001b[43m \u001b[49m\u001b[43mindex\u001b[49m\u001b[38;5;241;43m=\u001b[39;49m\u001b[38;5;28;43;01mFalse\u001b[39;49;00m\u001b[43m,\u001b[49m\u001b[43m \u001b[49m\u001b[43mif_exists\u001b[49m\u001b[38;5;241;43m=\u001b[39;49m\u001b[38;5;124;43m\"\u001b[39;49m\u001b[38;5;124;43mreplace\u001b[39;49m\u001b[38;5;124;43m\"\u001b[39;49m\u001b[43m)\u001b[49m\n",
      "File \u001b[0;32m~/Desktop/Proyect-ETL/criminal_minds/criminal_env/lib/python3.12/site-packages/pandas/util/_decorators.py:333\u001b[0m, in \u001b[0;36mdeprecate_nonkeyword_arguments.<locals>.decorate.<locals>.wrapper\u001b[0;34m(*args, **kwargs)\u001b[0m\n\u001b[1;32m    327\u001b[0m \u001b[38;5;28;01mif\u001b[39;00m \u001b[38;5;28mlen\u001b[39m(args) \u001b[38;5;241m>\u001b[39m num_allow_args:\n\u001b[1;32m    328\u001b[0m     warnings\u001b[38;5;241m.\u001b[39mwarn(\n\u001b[1;32m    329\u001b[0m         msg\u001b[38;5;241m.\u001b[39mformat(arguments\u001b[38;5;241m=\u001b[39m_format_argument_list(allow_args)),\n\u001b[1;32m    330\u001b[0m         \u001b[38;5;167;01mFutureWarning\u001b[39;00m,\n\u001b[1;32m    331\u001b[0m         stacklevel\u001b[38;5;241m=\u001b[39mfind_stack_level(),\n\u001b[1;32m    332\u001b[0m     )\n\u001b[0;32m--> 333\u001b[0m \u001b[38;5;28;01mreturn\u001b[39;00m \u001b[43mfunc\u001b[49m\u001b[43m(\u001b[49m\u001b[38;5;241;43m*\u001b[39;49m\u001b[43margs\u001b[49m\u001b[43m,\u001b[49m\u001b[43m \u001b[49m\u001b[38;5;241;43m*\u001b[39;49m\u001b[38;5;241;43m*\u001b[39;49m\u001b[43mkwargs\u001b[49m\u001b[43m)\u001b[49m\n",
      "\u001b[0;31mTypeError\u001b[0m: NDFrame.to_sql() missing 1 required positional argument: 'con'"
     ]
    }
   ],
   "source": [
    "df_raw.to_sql(name=\"criminal_mind_clean\", index=False, if_exists=\"replace\")"
   ]
  },
  {
   "cell_type": "markdown",
   "metadata": {},
   "source": [
    "### <center color='red'>Start Analisis</center>"
   ]
  },
  {
   "cell_type": "code",
   "execution_count": 85,
   "metadata": {},
   "outputs": [
    {
     "data": {
      "text/plain": [
       "Vict Sex\n",
       "M    396744\n",
       "F    352738\n",
       "X     94467\n",
       "H       112\n",
       "-         1\n",
       "Name: count, dtype: int64"
      ]
     },
     "execution_count": 85,
     "metadata": {},
     "output_type": "execute_result"
    }
   ],
   "source": [
    "df_raw['Vict Sex'].value_counts() #We see the count of each category in the Vict Sex Column"
   ]
  },
  {
   "cell_type": "code",
   "execution_count": 86,
   "metadata": {},
   "outputs": [
    {
     "data": {
      "text/plain": [
       "Vict Descent\n",
       "H    292422\n",
       "W    197106\n",
       "B    134181\n",
       "X    103234\n",
       "O     76705\n",
       "A     21027\n",
       "K      5678\n",
       "F      4555\n",
       "C      4265\n",
       "J      1490\n",
       "V      1117\n",
       "I       968\n",
       "Z       529\n",
       "P       277\n",
       "U       211\n",
       "D        86\n",
       "G        72\n",
       "L        71\n",
       "S        55\n",
       "-         2\n",
       "Name: count, dtype: int64"
      ]
     },
     "execution_count": 86,
     "metadata": {},
     "output_type": "execute_result"
    }
   ],
   "source": [
    "df_raw['Vict Descent'].value_counts() #We see the count of each category in the Vict Descent Column"
   ]
  },
  {
   "cell_type": "code",
   "execution_count": 87,
   "metadata": {},
   "outputs": [],
   "source": [
    "women_victims = df_raw[df_raw['Vict Sex'] == 'F']"
   ]
  },
  {
   "cell_type": "code",
   "execution_count": 88,
   "metadata": {},
   "outputs": [],
   "source": [
    "men_victims = df_raw[df_raw['Vict Sex']=='M']"
   ]
  },
  {
   "cell_type": "code",
   "execution_count": 89,
   "metadata": {},
   "outputs": [
    {
     "data": {
      "text/html": [
       "<div>\n",
       "<style scoped>\n",
       "    .dataframe tbody tr th:only-of-type {\n",
       "        vertical-align: middle;\n",
       "    }\n",
       "\n",
       "    .dataframe tbody tr th {\n",
       "        vertical-align: top;\n",
       "    }\n",
       "\n",
       "    .dataframe thead th {\n",
       "        text-align: right;\n",
       "    }\n",
       "</style>\n",
       "<table border=\"1\" class=\"dataframe\">\n",
       "  <thead>\n",
       "    <tr style=\"text-align: right;\">\n",
       "      <th></th>\n",
       "      <th>Date Rptd</th>\n",
       "      <th>DATE OCC</th>\n",
       "      <th>AREA NAME</th>\n",
       "      <th>Crm Cd Desc</th>\n",
       "      <th>Mocodes</th>\n",
       "      <th>Vict Sex</th>\n",
       "      <th>Vict Descent</th>\n",
       "      <th>Premis Desc</th>\n",
       "      <th>Weapon Desc</th>\n",
       "      <th>Status</th>\n",
       "      <th>Status Desc</th>\n",
       "      <th>LOCATION</th>\n",
       "    </tr>\n",
       "  </thead>\n",
       "  <tbody>\n",
       "    <tr>\n",
       "      <th>count</th>\n",
       "      <td>352738</td>\n",
       "      <td>352738</td>\n",
       "      <td>352738</td>\n",
       "      <td>352738</td>\n",
       "      <td>349528</td>\n",
       "      <td>352738</td>\n",
       "      <td>352732</td>\n",
       "      <td>352687</td>\n",
       "      <td>148959</td>\n",
       "      <td>352738</td>\n",
       "      <td>352738</td>\n",
       "      <td>352738</td>\n",
       "    </tr>\n",
       "    <tr>\n",
       "      <th>unique</th>\n",
       "      <td>1735</td>\n",
       "      <td>1735</td>\n",
       "      <td>21</td>\n",
       "      <td>133</td>\n",
       "      <td>146125</td>\n",
       "      <td>1</td>\n",
       "      <td>19</td>\n",
       "      <td>294</td>\n",
       "      <td>76</td>\n",
       "      <td>6</td>\n",
       "      <td>6</td>\n",
       "      <td>49692</td>\n",
       "    </tr>\n",
       "    <tr>\n",
       "      <th>top</th>\n",
       "      <td>02/02/2023 12:00:00 AM</td>\n",
       "      <td>12/02/2022 12:00:00 AM</td>\n",
       "      <td>77th Street</td>\n",
       "      <td>INTIMATE PARTNER - SIMPLE ASSAULT</td>\n",
       "      <td>0344</td>\n",
       "      <td>F</td>\n",
       "      <td>H</td>\n",
       "      <td>SINGLE FAMILY DWELLING</td>\n",
       "      <td>STRONG-ARM (HANDS, FIST, FEET OR BODILY FORCE)</td>\n",
       "      <td>IC</td>\n",
       "      <td>Invest Cont</td>\n",
       "      <td>800 N  ALAMEDA                      ST</td>\n",
       "    </tr>\n",
       "    <tr>\n",
       "      <th>freq</th>\n",
       "      <td>477</td>\n",
       "      <td>640</td>\n",
       "      <td>26580</td>\n",
       "      <td>35493</td>\n",
       "      <td>15020</td>\n",
       "      <td>352738</td>\n",
       "      <td>146832</td>\n",
       "      <td>92099</td>\n",
       "      <td>99233</td>\n",
       "      <td>258059</td>\n",
       "      <td>258059</td>\n",
       "      <td>497</td>\n",
       "    </tr>\n",
       "  </tbody>\n",
       "</table>\n",
       "</div>"
      ],
      "text/plain": [
       "                     Date Rptd                DATE OCC    AREA NAME  \\\n",
       "count                   352738                  352738       352738   \n",
       "unique                    1735                    1735           21   \n",
       "top     02/02/2023 12:00:00 AM  12/02/2022 12:00:00 AM  77th Street   \n",
       "freq                       477                     640        26580   \n",
       "\n",
       "                              Crm Cd Desc Mocodes Vict Sex Vict Descent  \\\n",
       "count                              352738  349528   352738       352732   \n",
       "unique                                133  146125        1           19   \n",
       "top     INTIMATE PARTNER - SIMPLE ASSAULT    0344        F            H   \n",
       "freq                                35493   15020   352738       146832   \n",
       "\n",
       "                   Premis Desc  \\\n",
       "count                   352687   \n",
       "unique                     294   \n",
       "top     SINGLE FAMILY DWELLING   \n",
       "freq                     92099   \n",
       "\n",
       "                                           Weapon Desc  Status  Status Desc  \\\n",
       "count                                           148959  352738       352738   \n",
       "unique                                              76       6            6   \n",
       "top     STRONG-ARM (HANDS, FIST, FEET OR BODILY FORCE)      IC  Invest Cont   \n",
       "freq                                             99233  258059       258059   \n",
       "\n",
       "                                      LOCATION  \n",
       "count                                   352738  \n",
       "unique                                   49692  \n",
       "top     800 N  ALAMEDA                      ST  \n",
       "freq                                       497  "
      ]
     },
     "execution_count": 89,
     "metadata": {},
     "output_type": "execute_result"
    }
   ],
   "source": [
    "women_victims.describe(include='object')"
   ]
  },
  {
   "cell_type": "code",
   "execution_count": 90,
   "metadata": {},
   "outputs": [
    {
     "data": {
      "text/html": [
       "<div>\n",
       "<style scoped>\n",
       "    .dataframe tbody tr th:only-of-type {\n",
       "        vertical-align: middle;\n",
       "    }\n",
       "\n",
       "    .dataframe tbody tr th {\n",
       "        vertical-align: top;\n",
       "    }\n",
       "\n",
       "    .dataframe thead th {\n",
       "        text-align: right;\n",
       "    }\n",
       "</style>\n",
       "<table border=\"1\" class=\"dataframe\">\n",
       "  <thead>\n",
       "    <tr style=\"text-align: right;\">\n",
       "      <th></th>\n",
       "      <th>Date Rptd</th>\n",
       "      <th>DATE OCC</th>\n",
       "      <th>AREA NAME</th>\n",
       "      <th>Crm Cd Desc</th>\n",
       "      <th>Mocodes</th>\n",
       "      <th>Vict Sex</th>\n",
       "      <th>Vict Descent</th>\n",
       "      <th>Premis Desc</th>\n",
       "      <th>Weapon Desc</th>\n",
       "      <th>Status</th>\n",
       "      <th>Status Desc</th>\n",
       "      <th>LOCATION</th>\n",
       "    </tr>\n",
       "  </thead>\n",
       "  <tbody>\n",
       "    <tr>\n",
       "      <th>count</th>\n",
       "      <td>396744</td>\n",
       "      <td>396744</td>\n",
       "      <td>396744</td>\n",
       "      <td>396744</td>\n",
       "      <td>393686</td>\n",
       "      <td>396744</td>\n",
       "      <td>396737</td>\n",
       "      <td>396480</td>\n",
       "      <td>157846</td>\n",
       "      <td>396744</td>\n",
       "      <td>396744</td>\n",
       "      <td>396744</td>\n",
       "    </tr>\n",
       "    <tr>\n",
       "      <th>unique</th>\n",
       "      <td>1735</td>\n",
       "      <td>1735</td>\n",
       "      <td>21</td>\n",
       "      <td>135</td>\n",
       "      <td>158695</td>\n",
       "      <td>1</td>\n",
       "      <td>20</td>\n",
       "      <td>303</td>\n",
       "      <td>78</td>\n",
       "      <td>6</td>\n",
       "      <td>6</td>\n",
       "      <td>53278</td>\n",
       "    </tr>\n",
       "    <tr>\n",
       "      <th>top</th>\n",
       "      <td>06/21/2022 12:00:00 AM</td>\n",
       "      <td>01/01/2020 12:00:00 AM</td>\n",
       "      <td>Central</td>\n",
       "      <td>BATTERY - SIMPLE ASSAULT</td>\n",
       "      <td>0344</td>\n",
       "      <td>M</td>\n",
       "      <td>H</td>\n",
       "      <td>STREET</td>\n",
       "      <td>STRONG-ARM (HANDS, FIST, FEET OR BODILY FORCE)</td>\n",
       "      <td>IC</td>\n",
       "      <td>Invest Cont</td>\n",
       "      <td>800 N  ALAMEDA                      ST</td>\n",
       "    </tr>\n",
       "    <tr>\n",
       "      <th>freq</th>\n",
       "      <td>364</td>\n",
       "      <td>453</td>\n",
       "      <td>32853</td>\n",
       "      <td>39146</td>\n",
       "      <td>21263</td>\n",
       "      <td>396744</td>\n",
       "      <td>145370</td>\n",
       "      <td>81814</td>\n",
       "      <td>68983</td>\n",
       "      <td>317070</td>\n",
       "      <td>317070</td>\n",
       "      <td>1140</td>\n",
       "    </tr>\n",
       "  </tbody>\n",
       "</table>\n",
       "</div>"
      ],
      "text/plain": [
       "                     Date Rptd                DATE OCC AREA NAME  \\\n",
       "count                   396744                  396744    396744   \n",
       "unique                    1735                    1735        21   \n",
       "top     06/21/2022 12:00:00 AM  01/01/2020 12:00:00 AM   Central   \n",
       "freq                       364                     453     32853   \n",
       "\n",
       "                     Crm Cd Desc Mocodes Vict Sex Vict Descent Premis Desc  \\\n",
       "count                     396744  393686   396744       396737      396480   \n",
       "unique                       135  158695        1           20         303   \n",
       "top     BATTERY - SIMPLE ASSAULT    0344        M            H      STREET   \n",
       "freq                       39146   21263   396744       145370       81814   \n",
       "\n",
       "                                           Weapon Desc  Status  Status Desc  \\\n",
       "count                                           157846  396744       396744   \n",
       "unique                                              78       6            6   \n",
       "top     STRONG-ARM (HANDS, FIST, FEET OR BODILY FORCE)      IC  Invest Cont   \n",
       "freq                                             68983  317070       317070   \n",
       "\n",
       "                                      LOCATION  \n",
       "count                                   396744  \n",
       "unique                                   53278  \n",
       "top     800 N  ALAMEDA                      ST  \n",
       "freq                                      1140  "
      ]
     },
     "execution_count": 90,
     "metadata": {},
     "output_type": "execute_result"
    }
   ],
   "source": [
    "men_victims.describe(include='object')"
   ]
  },
  {
   "cell_type": "code",
   "execution_count": 91,
   "metadata": {},
   "outputs": [
    {
     "data": {
      "text/plain": [
       "(352738, 27)"
      ]
     },
     "execution_count": 91,
     "metadata": {},
     "output_type": "execute_result"
    }
   ],
   "source": [
    "women_victims.shape"
   ]
  },
  {
   "cell_type": "code",
   "execution_count": 92,
   "metadata": {},
   "outputs": [
    {
     "data": {
      "text/plain": [
       "(396744, 27)"
      ]
     },
     "execution_count": 92,
     "metadata": {},
     "output_type": "execute_result"
    }
   ],
   "source": [
    "men_victims.shape"
   ]
  },
  {
   "cell_type": "code",
   "execution_count": 93,
   "metadata": {},
   "outputs": [
    {
     "data": {
      "text/plain": [
       "Weapon Desc\n",
       "STRONG-ARM (HANDS, FIST, FEET OR BODILY FORCE)    99233\n",
       "UNKNOWN WEAPON/OTHER WEAPON                       13509\n",
       "VERBAL THREAT                                     11485\n",
       "HAND GUN                                           4651\n",
       "KNIFE WITH BLADE 6INCHES OR LESS                   1718\n",
       "                                                  ...  \n",
       "RELIC FIREARM                                         2\n",
       "ANTIQUE FIREARM                                       2\n",
       "MAC-11 SEMIAUTOMATIC ASSAULT WEAPON                   1\n",
       "UZI SEMIAUTOMATIC ASSAULT RIFLE                       1\n",
       "MARTIAL ARTS WEAPONS                                  1\n",
       "Name: count, Length: 76, dtype: int64"
      ]
     },
     "execution_count": 93,
     "metadata": {},
     "output_type": "execute_result"
    }
   ],
   "source": [
    "# Top 5 Weapons used in crimens at the women\n",
    "sizes = women_victims[~women_victims['Weapon Desc'].isna()]['Weapon Desc'].value_counts()[:6]\n",
    "women_victims[~women_victims['Weapon Desc'].isna()]['Weapon Desc'].value_counts()\n"
   ]
  },
  {
   "cell_type": "code",
   "execution_count": 94,
   "metadata": {},
   "outputs": [
    {
     "data": {
      "text/plain": [
       "Weapon Desc\n",
       "STRONG-ARM (HANDS, FIST, FEET OR BODILY FORCE)    99233\n",
       "UNKNOWN WEAPON/OTHER WEAPON                       13509\n",
       "VERBAL THREAT                                     11485\n",
       "HAND GUN                                           4651\n",
       "KNIFE WITH BLADE 6INCHES OR LESS                   1718\n",
       "UNKNOWN FIREARM                                    1601\n",
       "Name: count, dtype: int64"
      ]
     },
     "execution_count": 94,
     "metadata": {},
     "output_type": "execute_result"
    }
   ],
   "source": [
    "sizes"
   ]
  },
  {
   "cell_type": "code",
   "execution_count": 95,
   "metadata": {},
   "outputs": [
    {
     "data": {
      "image/png": "[encoded data removed]",
      "text/plain": [
       "<Figure size 800x800 with 1 Axes>"
      ]
     },
     "metadata": {},
     "output_type": "display_data"
    }
   ],
   "source": [
    "plt.figure(figsize=(8, 8))\n",
    "plt.pie(sizes, labels=sizes.keys(), autopct='%1.1f%%', startangle=140, colors=plt.cm.Paired.colors)\n",
    "plt.title('Top 5 Weapons Used in Crimes Against Women')\n",
    "plt.show()"
   ]
  },
  {
   "cell_type": "code",
   "execution_count": 96,
   "metadata": {},
   "outputs": [
    {
     "data": {
      "image/png": "[encoded data removed]",
      "text/plain": [
       "<Figure size 800x800 with 1 Axes>"
      ]
     },
     "metadata": {},
     "output_type": "display_data"
    }
   ],
   "source": [
    "# Top 5 Weapons used in crimens at the men\n",
    "sizes = men_victims[~men_victims['Weapon Desc'].isna()]['Weapon Desc'].value_counts()[:6]\n",
    "men_victims[~men_victims['Weapon Desc'].isna()]['Weapon Desc'].value_counts()\n",
    " \n",
    "plt.figure(figsize=(8, 8))\n",
    "plt.pie(sizes, labels=sizes.keys(), autopct='%1.1f%%', startangle=140, colors=plt.cm.Paired.colors)\n",
    "plt.title('Top 5 Weapons Used in Crimes Against Women')\n",
    "plt.show()"
   ]
  },
  {
   "cell_type": "code",
   "execution_count": 97,
   "metadata": {},
   "outputs": [
    {
     "data": {
      "text/html": [
       "<div>\n",
       "<style scoped>\n",
       "    .dataframe tbody tr th:only-of-type {\n",
       "        vertical-align: middle;\n",
       "    }\n",
       "\n",
       "    .dataframe tbody tr th {\n",
       "        vertical-align: top;\n",
       "    }\n",
       "\n",
       "    .dataframe thead th {\n",
       "        text-align: right;\n",
       "    }\n",
       "</style>\n",
       "<table border=\"1\" class=\"dataframe\">\n",
       "  <thead>\n",
       "    <tr style=\"text-align: right;\">\n",
       "      <th></th>\n",
       "      <th>AREA NAME</th>\n",
       "      <th>Crm Cd Desc</th>\n",
       "      <th>Weapon Desc</th>\n",
       "    </tr>\n",
       "  </thead>\n",
       "  <tbody>\n",
       "    <tr>\n",
       "      <th>25</th>\n",
       "      <td>Northeast</td>\n",
       "      <td>CRIMINAL THREATS - NO WEAPON DISPLAYED</td>\n",
       "      <td>UNKNOWN WEAPON/OTHER WEAPON</td>\n",
       "    </tr>\n",
       "    <tr>\n",
       "      <th>149</th>\n",
       "      <td>West Valley</td>\n",
       "      <td>BRANDISH WEAPON</td>\n",
       "      <td>UNKNOWN WEAPON/OTHER WEAPON</td>\n",
       "    </tr>\n",
       "    <tr>\n",
       "      <th>303</th>\n",
       "      <td>Hollywood</td>\n",
       "      <td>BURGLARY</td>\n",
       "      <td>UNKNOWN WEAPON/OTHER WEAPON</td>\n",
       "    </tr>\n",
       "    <tr>\n",
       "      <th>471</th>\n",
       "      <td>Foothill</td>\n",
       "      <td>ORAL COPULATION</td>\n",
       "      <td>UNKNOWN WEAPON/OTHER WEAPON</td>\n",
       "    </tr>\n",
       "    <tr>\n",
       "      <th>704</th>\n",
       "      <td>Central</td>\n",
       "      <td>INTIMATE PARTNER - AGGRAVATED ASSAULT</td>\n",
       "      <td>UNKNOWN WEAPON/OTHER WEAPON</td>\n",
       "    </tr>\n",
       "    <tr>\n",
       "      <th>...</th>\n",
       "      <td>...</td>\n",
       "      <td>...</td>\n",
       "      <td>...</td>\n",
       "    </tr>\n",
       "    <tr>\n",
       "      <th>982225</th>\n",
       "      <td>77th Street</td>\n",
       "      <td>BURGLARY</td>\n",
       "      <td>UNKNOWN WEAPON/OTHER WEAPON</td>\n",
       "    </tr>\n",
       "    <tr>\n",
       "      <th>982230</th>\n",
       "      <td>Pacific</td>\n",
       "      <td>THEFT-GRAND ($950.01 &amp; OVER)EXCPT,GUNS,FOWL,LI...</td>\n",
       "      <td>UNKNOWN WEAPON/OTHER WEAPON</td>\n",
       "    </tr>\n",
       "    <tr>\n",
       "      <th>982397</th>\n",
       "      <td>West LA</td>\n",
       "      <td>BURGLARY</td>\n",
       "      <td>UNKNOWN WEAPON/OTHER WEAPON</td>\n",
       "    </tr>\n",
       "    <tr>\n",
       "      <th>982508</th>\n",
       "      <td>Southeast</td>\n",
       "      <td>BRANDISH WEAPON</td>\n",
       "      <td>UNKNOWN WEAPON/OTHER WEAPON</td>\n",
       "    </tr>\n",
       "    <tr>\n",
       "      <th>982576</th>\n",
       "      <td>Newton</td>\n",
       "      <td>ROBBERY</td>\n",
       "      <td>UNKNOWN WEAPON/OTHER WEAPON</td>\n",
       "    </tr>\n",
       "  </tbody>\n",
       "</table>\n",
       "<p>13509 rows × 3 columns</p>\n",
       "</div>"
      ],
      "text/plain": [
       "          AREA NAME                                        Crm Cd Desc  \\\n",
       "25        Northeast             CRIMINAL THREATS - NO WEAPON DISPLAYED   \n",
       "149     West Valley                                    BRANDISH WEAPON   \n",
       "303       Hollywood                                           BURGLARY   \n",
       "471        Foothill                                    ORAL COPULATION   \n",
       "704         Central              INTIMATE PARTNER - AGGRAVATED ASSAULT   \n",
       "...             ...                                                ...   \n",
       "982225  77th Street                                           BURGLARY   \n",
       "982230      Pacific  THEFT-GRAND ($950.01 & OVER)EXCPT,GUNS,FOWL,LI...   \n",
       "982397      West LA                                           BURGLARY   \n",
       "982508    Southeast                                    BRANDISH WEAPON   \n",
       "982576       Newton                                            ROBBERY   \n",
       "\n",
       "                        Weapon Desc  \n",
       "25      UNKNOWN WEAPON/OTHER WEAPON  \n",
       "149     UNKNOWN WEAPON/OTHER WEAPON  \n",
       "303     UNKNOWN WEAPON/OTHER WEAPON  \n",
       "471     UNKNOWN WEAPON/OTHER WEAPON  \n",
       "704     UNKNOWN WEAPON/OTHER WEAPON  \n",
       "...                             ...  \n",
       "982225  UNKNOWN WEAPON/OTHER WEAPON  \n",
       "982230  UNKNOWN WEAPON/OTHER WEAPON  \n",
       "982397  UNKNOWN WEAPON/OTHER WEAPON  \n",
       "982508  UNKNOWN WEAPON/OTHER WEAPON  \n",
       "982576  UNKNOWN WEAPON/OTHER WEAPON  \n",
       "\n",
       "[13509 rows x 3 columns]"
      ]
     },
     "execution_count": 97,
     "metadata": {},
     "output_type": "execute_result"
    }
   ],
   "source": [
    "#Women Victims with UNKNOWN WEAPON/OHTR ATTACK\n",
    "women_victims[women_victims['Weapon Desc']=='UNKNOWN WEAPON/OTHER WEAPON'][['AREA NAME', 'Crm Cd Desc', 'Weapon Desc']]"
   ]
  },
  {
   "cell_type": "code",
   "execution_count": 98,
   "metadata": {},
   "outputs": [
    {
     "data": {
      "text/html": [
       "<div>\n",
       "<style scoped>\n",
       "    .dataframe tbody tr th:only-of-type {\n",
       "        vertical-align: middle;\n",
       "    }\n",
       "\n",
       "    .dataframe tbody tr th {\n",
       "        vertical-align: top;\n",
       "    }\n",
       "\n",
       "    .dataframe thead th {\n",
       "        text-align: right;\n",
       "    }\n",
       "</style>\n",
       "<table border=\"1\" class=\"dataframe\">\n",
       "  <thead>\n",
       "    <tr style=\"text-align: right;\">\n",
       "      <th></th>\n",
       "      <th>AREA NAME</th>\n",
       "      <th>Crm Cd Desc</th>\n",
       "      <th>Weapon Desc</th>\n",
       "    </tr>\n",
       "  </thead>\n",
       "  <tbody>\n",
       "    <tr>\n",
       "      <th>count</th>\n",
       "      <td>13509</td>\n",
       "      <td>13509</td>\n",
       "      <td>13509</td>\n",
       "    </tr>\n",
       "    <tr>\n",
       "      <th>unique</th>\n",
       "      <td>21</td>\n",
       "      <td>81</td>\n",
       "      <td>1</td>\n",
       "    </tr>\n",
       "    <tr>\n",
       "      <th>top</th>\n",
       "      <td>Pacific</td>\n",
       "      <td>BATTERY - SIMPLE ASSAULT</td>\n",
       "      <td>UNKNOWN WEAPON/OTHER WEAPON</td>\n",
       "    </tr>\n",
       "    <tr>\n",
       "      <th>freq</th>\n",
       "      <td>1676</td>\n",
       "      <td>2767</td>\n",
       "      <td>13509</td>\n",
       "    </tr>\n",
       "  </tbody>\n",
       "</table>\n",
       "</div>"
      ],
      "text/plain": [
       "       AREA NAME               Crm Cd Desc                  Weapon Desc\n",
       "count      13509                     13509                        13509\n",
       "unique        21                        81                            1\n",
       "top      Pacific  BATTERY - SIMPLE ASSAULT  UNKNOWN WEAPON/OTHER WEAPON\n",
       "freq        1676                      2767                        13509"
      ]
     },
     "execution_count": 98,
     "metadata": {},
     "output_type": "execute_result"
    }
   ],
   "source": [
    "#Top Area Tipe of Attack with UNKNOW WEAPON at Women\n",
    "women_victims[women_victims['Weapon Desc']=='UNKNOWN WEAPON/OTHER WEAPON'][['AREA NAME', 'Crm Cd Desc', 'Weapon Desc']].describe(include='object')"
   ]
  },
  {
   "cell_type": "code",
   "execution_count": 99,
   "metadata": {},
   "outputs": [
    {
     "data": {
      "text/html": [
       "<div>\n",
       "<style scoped>\n",
       "    .dataframe tbody tr th:only-of-type {\n",
       "        vertical-align: middle;\n",
       "    }\n",
       "\n",
       "    .dataframe tbody tr th {\n",
       "        vertical-align: top;\n",
       "    }\n",
       "\n",
       "    .dataframe thead th {\n",
       "        text-align: right;\n",
       "    }\n",
       "</style>\n",
       "<table border=\"1\" class=\"dataframe\">\n",
       "  <thead>\n",
       "    <tr style=\"text-align: right;\">\n",
       "      <th></th>\n",
       "      <th>Vict Age</th>\n",
       "    </tr>\n",
       "  </thead>\n",
       "  <tbody>\n",
       "    <tr>\n",
       "      <th>count</th>\n",
       "      <td>530.000000</td>\n",
       "    </tr>\n",
       "    <tr>\n",
       "      <th>mean</th>\n",
       "      <td>26.464151</td>\n",
       "    </tr>\n",
       "    <tr>\n",
       "      <th>std</th>\n",
       "      <td>15.622909</td>\n",
       "    </tr>\n",
       "    <tr>\n",
       "      <th>min</th>\n",
       "      <td>0.000000</td>\n",
       "    </tr>\n",
       "    <tr>\n",
       "      <th>25%</th>\n",
       "      <td>14.000000</td>\n",
       "    </tr>\n",
       "    <tr>\n",
       "      <th>50%</th>\n",
       "      <td>24.000000</td>\n",
       "    </tr>\n",
       "    <tr>\n",
       "      <th>75%</th>\n",
       "      <td>35.000000</td>\n",
       "    </tr>\n",
       "    <tr>\n",
       "      <th>max</th>\n",
       "      <td>82.000000</td>\n",
       "    </tr>\n",
       "  </tbody>\n",
       "</table>\n",
       "</div>"
      ],
      "text/plain": [
       "         Vict Age\n",
       "count  530.000000\n",
       "mean    26.464151\n",
       "std     15.622909\n",
       "min      0.000000\n",
       "25%     14.000000\n",
       "50%     24.000000\n",
       "75%     35.000000\n",
       "max     82.000000"
      ]
     },
     "execution_count": 99,
     "metadata": {},
     "output_type": "execute_result"
    }
   ],
   "source": [
    "women_victims[women_victims['Crm Cd Desc']=='ORAL COPULATION'][['AREA NAME', 'Vict Age', 'Vict Descent', 'Status Desc']].describe()"
   ]
  },
  {
   "cell_type": "markdown",
   "metadata": {},
   "source": [
    "The average age of women who were ORAL COPULATION is 26 years old"
   ]
  },
  {
   "cell_type": "code",
   "execution_count": 100,
   "metadata": {},
   "outputs": [
    {
     "data": {
      "image/png": "[encoded data removed]",
      "text/plain": [
       "<Figure size 1000x600 with 1 Axes>"
      ]
     },
     "metadata": {},
     "output_type": "display_data"
    }
   ],
   "source": [
    "victim_ages = women_victims[women_victims['Weapon Desc']=='UNKNOWN WEAPON/OTHER WEAPON']['Vict Age']\n",
    "plt.figure(figsize=(10, 6))\n",
    "plt.hist(victim_ages, bins=range(0, 90, 5), color='skyblue', edgecolor='black')\n",
    "\n",
    "plt.title('Distribution of Victim Ages for ORAL COPULATION Cases (Women)')\n",
    "plt.xlabel('Victim Age')\n",
    "plt.ylabel('Number of Victims')\n",
    "plt.xticks(range(0, 90, 5))\n",
    "plt.grid(axis='y', linestyle='--', alpha=0.7)\n",
    "\n",
    "plt.show()"
   ]
  },
  {
   "cell_type": "code",
   "execution_count": 101,
   "metadata": {},
   "outputs": [
    {
     "data": {
      "image/png": "[encoded data removed]",
      "text/plain": [
       "<Figure size 1000x600 with 1 Axes>"
      ]
     },
     "metadata": {},
     "output_type": "display_data"
    }
   ],
   "source": [
    "victim_ages_men = men_victims[men_victims['Crm Cd Desc']=='ORAL COPULATION']['Vict Age']\n",
    "plt.figure(figsize=(10, 6))\n",
    "plt.hist(victim_ages_men, bins=range(0, 90, 5), color='lightcoral', edgecolor='black')\n",
    "\n",
    "plt.title('Distribution of Victim Ages for ORAL COPULATION Cases (Men)')\n",
    "plt.xlabel('Victim Age')\n",
    "plt.ylabel('Number of Victims')\n",
    "plt.xticks(range(0, 90, 5))\n",
    "plt.grid(axis='y', linestyle='--', alpha=0.7)\n",
    "\n",
    "plt.show()\n"
   ]
  },
  {
   "cell_type": "code",
   "execution_count": 102,
   "metadata": {},
   "outputs": [
    {
     "data": {
      "image/png": "[encoded data removed]",
      "text/plain": [
       "<Figure size 1000x600 with 1 Axes>"
      ]
     },
     "metadata": {},
     "output_type": "display_data"
    }
   ],
   "source": [
    "# Count the most used weapons\n",
    "weapon_usage = df_raw['Weapon Desc'].value_counts().head(10)\n",
    "\n",
    "# Most Used Weapons Graph\n",
    "plt.figure(figsize=(10, 6))\n",
    "weapon_usage.plot(kind='bar', color='salmon')\n",
    "plt.title('Top 10 Most Used Weapons')\n",
    "plt.xlabel('Weapon')\n",
    "plt.ylabel('Crime amounts')\n",
    "plt.xticks(rotation=45, ha='right')\n",
    "plt.tight_layout()\n",
    "plt.show()"
   ]
  },
  {
   "cell_type": "code",
   "execution_count": 103,
   "metadata": {},
   "outputs": [
    {
     "data": {
      "image/png": "[encoded data removed]",
      "text/plain": [
       "<Figure size 1000x600 with 1 Axes>"
      ]
     },
     "metadata": {},
     "output_type": "display_data"
    }
   ],
   "source": [
    "# Contar el número de crímenes por tipo\n",
    "crime_types = df_raw['Crm Cd Desc'].value_counts().head(10)\n",
    "\n",
    "# Graficar la distribución de los crímenes por tipo\n",
    "plt.figure(figsize=(10, 6))\n",
    "crime_types.plot(kind='barh', color='orange')\n",
    "plt.title('Top 10 Crime type')\n",
    "plt.xlabel('Amount of Crimes')\n",
    "plt.ylabel('Type of Crime')\n",
    "plt.tight_layout()\n",
    "plt.show()"
   ]
  }
 ],
 "metadata": {
  "kernelspec": {
   "display_name": "criminal_env",
   "language": "python",
   "name": "python3"
  },
  "language_info": {
   "codemirror_mode": {
    "name": "ipython",
    "version": 3
   },
   "file_extension": ".py",
   "mimetype": "text/x-python",
   "name": "python",
   "nbconvert_exporter": "python",
   "pygments_lexer": "ipython3",
   "version": "3.12.3"
  }
 },
 "nbformat": 4,
 "nbformat_minor": 2
}
